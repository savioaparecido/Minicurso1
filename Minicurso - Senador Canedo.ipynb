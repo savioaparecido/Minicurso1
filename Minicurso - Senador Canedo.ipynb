{
 "cells": [
  {
   "cell_type": "markdown",
   "metadata": {},
   "source": [
    "## Básico"
   ]
  },
  {
   "cell_type": "markdown",
   "metadata": {},
   "source": [
    "### Conheçendo Python"
   ]
  },
  {
   "cell_type": "code",
   "execution_count": 1,
   "metadata": {},
   "outputs": [
    {
     "name": "stdout",
     "output_type": "stream",
     "text": [
      "The Zen of Python, by Tim Peters\n",
      "\n",
      "Beautiful is better than ugly.\n",
      "Explicit is better than implicit.\n",
      "Simple is better than complex.\n",
      "Complex is better than complicated.\n",
      "Flat is better than nested.\n",
      "Sparse is better than dense.\n",
      "Readability counts.\n",
      "Special cases aren't special enough to break the rules.\n",
      "Although practicality beats purity.\n",
      "Errors should never pass silently.\n",
      "Unless explicitly silenced.\n",
      "In the face of ambiguity, refuse the temptation to guess.\n",
      "There should be one-- and preferably only one --obvious way to do it.\n",
      "Although that way may not be obvious at first unless you're Dutch.\n",
      "Now is better than never.\n",
      "Although never is often better than *right* now.\n",
      "If the implementation is hard to explain, it's a bad idea.\n",
      "If the implementation is easy to explain, it may be a good idea.\n",
      "Namespaces are one honking great idea -- let's do more of those!\n"
     ]
    }
   ],
   "source": [
    "import this"
   ]
  },
  {
   "cell_type": "code",
   "execution_count": 2,
   "metadata": {},
   "outputs": [
    {
     "name": "stdout",
     "output_type": "stream",
     "text": [
      "Olá Mundo!\n"
     ]
    }
   ],
   "source": [
    "print('Olá Mundo!')"
   ]
  },
  {
   "cell_type": "code",
   "execution_count": 3,
   "metadata": {},
   "outputs": [
    {
     "name": "stdout",
     "output_type": "stream",
     "text": [
      "1\n"
     ]
    }
   ],
   "source": [
    "print(1)"
   ]
  },
  {
   "cell_type": "code",
   "execution_count": 4,
   "metadata": {},
   "outputs": [
    {
     "data": {
      "text/plain": [
       "13.833333333333334"
      ]
     },
     "execution_count": 4,
     "metadata": {},
     "output_type": "execute_result"
    }
   ],
   "source": [
    "1+(2+3.5)*7/3"
   ]
  },
  {
   "cell_type": "code",
   "execution_count": 5,
   "metadata": {},
   "outputs": [],
   "source": [
    "var1 = 5 #integer - int\n",
    "var2 = 2.5 #float - float\n",
    "var3 = 'João' #string - str\n",
    "var4 = True #booleano - bool"
   ]
  },
  {
   "cell_type": "code",
   "execution_count": 6,
   "metadata": {},
   "outputs": [],
   "source": [
    "var1 = 5"
   ]
  },
  {
   "cell_type": "code",
   "execution_count": 7,
   "metadata": {},
   "outputs": [
    {
     "data": {
      "text/plain": [
       "5"
      ]
     },
     "execution_count": 7,
     "metadata": {},
     "output_type": "execute_result"
    }
   ],
   "source": [
    "var1"
   ]
  },
  {
   "cell_type": "code",
   "execution_count": 8,
   "metadata": {},
   "outputs": [
    {
     "data": {
      "text/plain": [
       "bool"
      ]
     },
     "execution_count": 8,
     "metadata": {},
     "output_type": "execute_result"
    }
   ],
   "source": [
    "type(var4)"
   ]
  },
  {
   "cell_type": "code",
   "execution_count": 9,
   "metadata": {},
   "outputs": [
    {
     "name": "stdout",
     "output_type": "stream",
     "text": [
      "1\n",
      "1\n",
      "2\n",
      "2\n",
      "3\n",
      "2\n",
      "3\n",
      "3\n",
      "4\n",
      "5\n",
      "6\n",
      "1\n",
      "2\n",
      "1\n",
      "3\n",
      "2\n",
      "4\n",
      "2\n",
      "4\n",
      "3\n",
      "5\n",
      "5\n",
      "7\n",
      "2\n",
      "3\n",
      "1\n",
      "4\n",
      "2\n",
      "5\n",
      "2\n",
      "5\n",
      "3\n",
      "6\n",
      "5\n",
      "8\n",
      "3\n",
      "4\n",
      "1\n",
      "5\n",
      "2\n",
      "6\n",
      "2\n",
      "6\n",
      "3\n",
      "7\n",
      "5\n",
      "9\n",
      "4\n",
      "5\n",
      "1\n",
      "6\n",
      "2\n",
      "7\n",
      "2\n",
      "7\n",
      "3\n",
      "8\n",
      "5\n",
      "10\n",
      "5\n",
      "fim do looping\n",
      "5\n"
     ]
    }
   ],
   "source": [
    "#indentação e estrutura de repetição for\n",
    "\n",
    "for i in [1,2,3,4,5]:\n",
    "    print(i)\n",
    "    for j in [1,2,2,3,5]:\n",
    "        print(j)\n",
    "        print(i+j)\n",
    "    print(i)\n",
    "print('fim do looping')\n",
    "print(i)"
   ]
  },
  {
   "cell_type": "code",
   "execution_count": 10,
   "metadata": {},
   "outputs": [
    {
     "name": "stdout",
     "output_type": "stream",
     "text": [
      "0\n",
      "1\n",
      "2\n",
      "3\n",
      "4\n",
      "5\n",
      "6\n",
      "7\n",
      "8\n",
      "9\n",
      "10\n"
     ]
    }
   ],
   "source": [
    "#estrutura de repetição while\n",
    "\n",
    "count = 0\n",
    "while count <= 10:\n",
    "    print(count)\n",
    "    count = count + 1"
   ]
  },
  {
   "cell_type": "code",
   "execution_count": 11,
   "metadata": {},
   "outputs": [
    {
     "name": "stdout",
     "output_type": "stream",
     "text": [
      "0\n",
      "1\n",
      "2\n",
      "3\n",
      "4\n",
      "5\n",
      "6\n",
      "7\n",
      "8\n",
      "9\n",
      "10\n"
     ]
    }
   ],
   "source": [
    "count = 0\n",
    "while True:\n",
    "    if count <= 10:\n",
    "        print(count)\n",
    "    else:\n",
    "        break\n",
    "    count += 1"
   ]
  },
  {
   "cell_type": "code",
   "execution_count": 12,
   "metadata": {},
   "outputs": [],
   "source": [
    "#armazenamento de dados\n",
    "\n",
    "lista = [1,2,3,4,'abs', True] #lista\n",
    "tupla = (1,2,3,4,5, 'abs', True) #tupla\n",
    "dic = {'frutas':['abacate', 'maça', 'banana'], 'verdura':'cenoura'} #dicionário"
   ]
  },
  {
   "cell_type": "code",
   "execution_count": 13,
   "metadata": {},
   "outputs": [
    {
     "ename": "TypeError",
     "evalue": "'tuple' object does not support item assignment",
     "output_type": "error",
     "traceback": [
      "\u001b[1;31m---------------------------------------------------------------------------\u001b[0m",
      "\u001b[1;31mTypeError\u001b[0m                                 Traceback (most recent call last)",
      "\u001b[1;32m<ipython-input-13-7b91f775b238>\u001b[0m in \u001b[0;36m<module>\u001b[1;34m\u001b[0m\n\u001b[0;32m      1\u001b[0m \u001b[0mtupla\u001b[0m \u001b[1;33m=\u001b[0m \u001b[1;33m(\u001b[0m\u001b[1;36m1\u001b[0m\u001b[1;33m,\u001b[0m\u001b[1;36m2\u001b[0m\u001b[1;33m,\u001b[0m\u001b[1;36m5\u001b[0m\u001b[1;33m,\u001b[0m\u001b[1;36m4\u001b[0m\u001b[1;33m,\u001b[0m\u001b[1;36m5\u001b[0m\u001b[1;33m)\u001b[0m\u001b[1;33m\u001b[0m\u001b[1;33m\u001b[0m\u001b[0m\n\u001b[1;32m----> 2\u001b[1;33m \u001b[0mtupla\u001b[0m\u001b[1;33m[\u001b[0m\u001b[1;36m3\u001b[0m\u001b[1;33m]\u001b[0m \u001b[1;33m=\u001b[0m \u001b[0mtupla\u001b[0m\u001b[1;33m[\u001b[0m\u001b[1;36m0\u001b[0m\u001b[1;33m]\u001b[0m \u001b[1;33m+\u001b[0m \u001b[0mtupla\u001b[0m\u001b[1;33m[\u001b[0m\u001b[1;36m2\u001b[0m\u001b[1;33m]\u001b[0m\u001b[1;33m\u001b[0m\u001b[1;33m\u001b[0m\u001b[0m\n\u001b[0m\u001b[0;32m      3\u001b[0m \u001b[0mtupla\u001b[0m\u001b[1;33m\u001b[0m\u001b[1;33m\u001b[0m\u001b[0m\n",
      "\u001b[1;31mTypeError\u001b[0m: 'tuple' object does not support item assignment"
     ]
    }
   ],
   "source": [
    "tupla = (1,2,5,4,5)\n",
    "tupla[3] = tupla[0] + tupla[2]\n",
    "tupla"
   ]
  },
  {
   "cell_type": "code",
   "execution_count": 14,
   "metadata": {},
   "outputs": [
    {
     "data": {
      "text/plain": [
       "[1, 2, 5, 7, 5]"
      ]
     },
     "execution_count": 14,
     "metadata": {},
     "output_type": "execute_result"
    }
   ],
   "source": [
    "lista = [1,2,5,4,5]\n",
    "lista[3] = lista[1] + lista[2]\n",
    "lista"
   ]
  },
  {
   "cell_type": "code",
   "execution_count": 15,
   "metadata": {},
   "outputs": [],
   "source": [
    "import pandas\n",
    "import numpy\n",
    "import matplotlib.pyplot"
   ]
  },
  {
   "cell_type": "code",
   "execution_count": 16,
   "metadata": {},
   "outputs": [],
   "source": [
    "dic = {'Países':['Brasil', 'Estados Unidos', 'Rússia', 'China'], 'População':[209.5, 328.2, 144.5, 1393.0]}"
   ]
  },
  {
   "cell_type": "code",
   "execution_count": 17,
   "metadata": {},
   "outputs": [
    {
     "data": {
      "text/html": [
       "<div>\n",
       "<style scoped>\n",
       "    .dataframe tbody tr th:only-of-type {\n",
       "        vertical-align: middle;\n",
       "    }\n",
       "\n",
       "    .dataframe tbody tr th {\n",
       "        vertical-align: top;\n",
       "    }\n",
       "\n",
       "    .dataframe thead th {\n",
       "        text-align: right;\n",
       "    }\n",
       "</style>\n",
       "<table border=\"1\" class=\"dataframe\">\n",
       "  <thead>\n",
       "    <tr style=\"text-align: right;\">\n",
       "      <th></th>\n",
       "      <th>Países</th>\n",
       "      <th>População</th>\n",
       "    </tr>\n",
       "  </thead>\n",
       "  <tbody>\n",
       "    <tr>\n",
       "      <th>0</th>\n",
       "      <td>Brasil</td>\n",
       "      <td>209.5</td>\n",
       "    </tr>\n",
       "    <tr>\n",
       "      <th>1</th>\n",
       "      <td>Estados Unidos</td>\n",
       "      <td>328.2</td>\n",
       "    </tr>\n",
       "    <tr>\n",
       "      <th>2</th>\n",
       "      <td>Rússia</td>\n",
       "      <td>144.5</td>\n",
       "    </tr>\n",
       "    <tr>\n",
       "      <th>3</th>\n",
       "      <td>China</td>\n",
       "      <td>1393.0</td>\n",
       "    </tr>\n",
       "  </tbody>\n",
       "</table>\n",
       "</div>"
      ],
      "text/plain": [
       "           Países  População\n",
       "0          Brasil      209.5\n",
       "1  Estados Unidos      328.2\n",
       "2          Rússia      144.5\n",
       "3           China     1393.0"
      ]
     },
     "execution_count": 17,
     "metadata": {},
     "output_type": "execute_result"
    }
   ],
   "source": [
    "pandas.DataFrame(dic)"
   ]
  },
  {
   "cell_type": "code",
   "execution_count": 18,
   "metadata": {},
   "outputs": [],
   "source": [
    "import pandas as pd\n",
    "import numpy as np\n",
    "import matplotlib.pyplot as plt"
   ]
  },
  {
   "cell_type": "code",
   "execution_count": 19,
   "metadata": {},
   "outputs": [
    {
     "data": {
      "text/html": [
       "<div>\n",
       "<style scoped>\n",
       "    .dataframe tbody tr th:only-of-type {\n",
       "        vertical-align: middle;\n",
       "    }\n",
       "\n",
       "    .dataframe tbody tr th {\n",
       "        vertical-align: top;\n",
       "    }\n",
       "\n",
       "    .dataframe thead th {\n",
       "        text-align: right;\n",
       "    }\n",
       "</style>\n",
       "<table border=\"1\" class=\"dataframe\">\n",
       "  <thead>\n",
       "    <tr style=\"text-align: right;\">\n",
       "      <th></th>\n",
       "      <th>Países</th>\n",
       "      <th>População</th>\n",
       "    </tr>\n",
       "  </thead>\n",
       "  <tbody>\n",
       "    <tr>\n",
       "      <th>0</th>\n",
       "      <td>Brasil</td>\n",
       "      <td>209.5</td>\n",
       "    </tr>\n",
       "    <tr>\n",
       "      <th>1</th>\n",
       "      <td>Estados Unidos</td>\n",
       "      <td>328.2</td>\n",
       "    </tr>\n",
       "    <tr>\n",
       "      <th>2</th>\n",
       "      <td>Rússia</td>\n",
       "      <td>144.5</td>\n",
       "    </tr>\n",
       "    <tr>\n",
       "      <th>3</th>\n",
       "      <td>China</td>\n",
       "      <td>1393.0</td>\n",
       "    </tr>\n",
       "  </tbody>\n",
       "</table>\n",
       "</div>"
      ],
      "text/plain": [
       "           Países  População\n",
       "0          Brasil      209.5\n",
       "1  Estados Unidos      328.2\n",
       "2          Rússia      144.5\n",
       "3           China     1393.0"
      ]
     },
     "execution_count": 19,
     "metadata": {},
     "output_type": "execute_result"
    }
   ],
   "source": [
    "pd.DataFrame(dic)"
   ]
  },
  {
   "cell_type": "code",
   "execution_count": 20,
   "metadata": {},
   "outputs": [
    {
     "data": {
      "text/plain": [
       "array([1, 2, 3, 4])"
      ]
     },
     "execution_count": 20,
     "metadata": {},
     "output_type": "execute_result"
    }
   ],
   "source": [
    "matriz = np.array([1,2,3,4])\n",
    "\n",
    "matriz"
   ]
  },
  {
   "cell_type": "code",
   "execution_count": 21,
   "metadata": {},
   "outputs": [
    {
     "data": {
      "text/plain": [
       "array([[1, 2],\n",
       "       [3, 4]])"
      ]
     },
     "execution_count": 21,
     "metadata": {},
     "output_type": "execute_result"
    }
   ],
   "source": [
    "matriz.reshape(2,2)"
   ]
  },
  {
   "cell_type": "code",
   "execution_count": 22,
   "metadata": {},
   "outputs": [
    {
     "ename": "AttributeError",
     "evalue": "'list' object has no attribute 'reshape'",
     "output_type": "error",
     "traceback": [
      "\u001b[1;31m---------------------------------------------------------------------------\u001b[0m",
      "\u001b[1;31mAttributeError\u001b[0m                            Traceback (most recent call last)",
      "\u001b[1;32m<ipython-input-22-59465c25d101>\u001b[0m in \u001b[0;36m<module>\u001b[1;34m\u001b[0m\n\u001b[0;32m      1\u001b[0m \u001b[0mlista\u001b[0m \u001b[1;33m=\u001b[0m \u001b[1;33m[\u001b[0m\u001b[1;36m1\u001b[0m\u001b[1;33m,\u001b[0m\u001b[1;36m2\u001b[0m\u001b[1;33m,\u001b[0m\u001b[1;36m3\u001b[0m\u001b[1;33m,\u001b[0m\u001b[1;36m4\u001b[0m\u001b[1;33m,\u001b[0m\u001b[1;36m5\u001b[0m\u001b[1;33m,\u001b[0m\u001b[1;36m6\u001b[0m\u001b[1;33m]\u001b[0m\u001b[1;33m\u001b[0m\u001b[1;33m\u001b[0m\u001b[0m\n\u001b[0;32m      2\u001b[0m \u001b[1;33m\u001b[0m\u001b[0m\n\u001b[1;32m----> 3\u001b[1;33m \u001b[0mlista\u001b[0m\u001b[1;33m.\u001b[0m\u001b[0mreshape\u001b[0m\u001b[1;33m(\u001b[0m\u001b[1;36m2\u001b[0m\u001b[1;33m,\u001b[0m\u001b[1;36m2\u001b[0m\u001b[1;33m)\u001b[0m\u001b[1;33m\u001b[0m\u001b[1;33m\u001b[0m\u001b[0m\n\u001b[0m",
      "\u001b[1;31mAttributeError\u001b[0m: 'list' object has no attribute 'reshape'"
     ]
    }
   ],
   "source": [
    "lista = [1,2,3,4,5,6]\n",
    "\n",
    "lista.reshape(2,2)"
   ]
  },
  {
   "cell_type": "code",
   "execution_count": 23,
   "metadata": {},
   "outputs": [
    {
     "data": {
      "text/plain": [
       "array([1, 2, 3, 4, 5, 6])"
      ]
     },
     "execution_count": 23,
     "metadata": {},
     "output_type": "execute_result"
    }
   ],
   "source": [
    "lista = np.asarray(lista)\n",
    "\n",
    "lista"
   ]
  },
  {
   "cell_type": "code",
   "execution_count": 24,
   "metadata": {},
   "outputs": [
    {
     "data": {
      "text/plain": [
       "array([[1, 2],\n",
       "       [3, 4],\n",
       "       [5, 6]])"
      ]
     },
     "execution_count": 24,
     "metadata": {},
     "output_type": "execute_result"
    }
   ],
   "source": [
    "lista.reshape(3,2)"
   ]
  },
  {
   "cell_type": "code",
   "execution_count": 25,
   "metadata": {},
   "outputs": [
    {
     "data": {
      "text/plain": [
       "[1, 2, 3, 4, 5, 6, 7, 8, 9, 10]"
      ]
     },
     "execution_count": 25,
     "metadata": {},
     "output_type": "execute_result"
    }
   ],
   "source": [
    "lista1 = [1,2,3,4,5]\n",
    "lista2 = [6,7,8,9,10]\n",
    "\n",
    "lista1 + lista2"
   ]
  },
  {
   "cell_type": "code",
   "execution_count": 26,
   "metadata": {},
   "outputs": [
    {
     "data": {
      "text/plain": [
       "array([ 7,  9, 11, 13, 15])"
      ]
     },
     "execution_count": 26,
     "metadata": {},
     "output_type": "execute_result"
    }
   ],
   "source": [
    "lista1 = np.asarray(lista1)\n",
    "lista2 = np.asarray(lista2)\n",
    "\n",
    "lista1 + lista2"
   ]
  },
  {
   "cell_type": "code",
   "execution_count": 27,
   "metadata": {},
   "outputs": [
    {
     "data": {
      "text/plain": [
       "array([ 1,  2,  3,  4,  5,  6,  7,  8,  9, 10])"
      ]
     },
     "execution_count": 27,
     "metadata": {},
     "output_type": "execute_result"
    }
   ],
   "source": [
    "np.concatenate((lista1, lista2))"
   ]
  },
  {
   "cell_type": "code",
   "execution_count": 28,
   "metadata": {},
   "outputs": [
    {
     "data": {
      "text/plain": [
       "[<matplotlib.lines.Line2D at 0x25a4b483310>]"
      ]
     },
     "execution_count": 28,
     "metadata": {},
     "output_type": "execute_result"
    },
    {
     "data": {
      "image/png": "[encoded data removed]",
      "text/plain": [
       "<Figure size 432x288 with 1 Axes>"
      ]
     },
     "metadata": {
      "needs_background": "light"
     },
     "output_type": "display_data"
    }
   ],
   "source": [
    "plt.plot(lista1, lista2)"
   ]
  },
  {
   "cell_type": "code",
   "execution_count": 29,
   "metadata": {},
   "outputs": [],
   "source": [
    "from bs4 import BeautifulSoup\n",
    "\n",
    "import requests"
   ]
  },
  {
   "cell_type": "code",
   "execution_count": 30,
   "metadata": {},
   "outputs": [],
   "source": [
    "url = 'https://www.cepea.esalq.usp.br/br/serie-de-preco/dolar.aspx'\n",
    "\n",
    "resposta = requests.get(url)\n",
    "\n",
    "resposta = resposta.content\n",
    "\n",
    "scraping = BeautifulSoup(resposta, features='lxml')"
   ]
  },
  {
   "cell_type": "code",
   "execution_count": 31,
   "metadata": {},
   "outputs": [
    {
     "data": {
      "text/plain": [
       "[<table class=\"imagenet-table imagenet-th2 imagenet-col-12\" id=\"imagenet-indicador1\">\n",
       " <thead>\n",
       " <tr>\n",
       " <th>\n",
       "                                         Data                                    </th>\n",
       " <th>\n",
       "                                         Dólar Comercial Atualizado às 16h30                                    </th>\n",
       " </tr>\n",
       " </thead>\n",
       " <tbody>\n",
       " <tr>\n",
       " <td style=\"width:50%;\">\n",
       "                                         04/12/2020                                    </td>\n",
       " <td style=\"width:50%;\">\n",
       "                                         5,128                                    </td>\n",
       " </tr>\n",
       " <tr>\n",
       " <td style=\"width:50%;\">\n",
       "                                         03/12/2020                                    </td>\n",
       " <td style=\"width:50%;\">\n",
       "                                         5,137                                    </td>\n",
       " </tr>\n",
       " <tr>\n",
       " <td style=\"width:50%;\">\n",
       "                                         02/12/2020                                    </td>\n",
       " <td style=\"width:50%;\">\n",
       "                                         5,245                                    </td>\n",
       " </tr>\n",
       " <tr>\n",
       " <td style=\"width:50%;\">\n",
       "                                         01/12/2020                                    </td>\n",
       " <td style=\"width:50%;\">\n",
       "                                         5,234                                    </td>\n",
       " </tr>\n",
       " <tr>\n",
       " <td style=\"width:50%;\">\n",
       "                                         30/11/2020                                    </td>\n",
       " <td style=\"width:50%;\">\n",
       "                                         5,353                                    </td>\n",
       " </tr>\n",
       " <tr>\n",
       " <td style=\"width:50%;\">\n",
       "                                         27/11/2020                                    </td>\n",
       " <td style=\"width:50%;\">\n",
       "                                         5,329                                    </td>\n",
       " </tr>\n",
       " <tr>\n",
       " <td style=\"width:50%;\">\n",
       "                                         26/11/2020                                    </td>\n",
       " <td style=\"width:50%;\">\n",
       "                                         5,330                                    </td>\n",
       " </tr>\n",
       " <tr>\n",
       " <td style=\"width:50%;\">\n",
       "                                         25/11/2020                                    </td>\n",
       " <td style=\"width:50%;\">\n",
       "                                         5,318                                    </td>\n",
       " </tr>\n",
       " <tr>\n",
       " <td style=\"width:50%;\">\n",
       "                                         24/11/2020                                    </td>\n",
       " <td style=\"width:50%;\">\n",
       "                                         5,385                                    </td>\n",
       " </tr>\n",
       " <tr>\n",
       " <td style=\"width:50%;\">\n",
       "                                         23/11/2020                                    </td>\n",
       " <td style=\"width:50%;\">\n",
       "                                         5,437                                    </td>\n",
       " </tr>\n",
       " <tr>\n",
       " <td style=\"width:50%;\">\n",
       "                                         20/11/2020                                    </td>\n",
       " <td style=\"width:50%;\">\n",
       "                                         5,372                                    </td>\n",
       " </tr>\n",
       " <tr>\n",
       " <td style=\"width:50%;\">\n",
       "                                         19/11/2020                                    </td>\n",
       " <td style=\"width:50%;\">\n",
       "                                         5,312                                    </td>\n",
       " </tr>\n",
       " <tr>\n",
       " <td style=\"width:50%;\">\n",
       "                                         18/11/2020                                    </td>\n",
       " <td style=\"width:50%;\">\n",
       "                                         5,345                                    </td>\n",
       " </tr>\n",
       " <tr>\n",
       " <td style=\"width:50%;\">\n",
       "                                         17/11/2020                                    </td>\n",
       " <td style=\"width:50%;\">\n",
       "                                         5,338                                    </td>\n",
       " </tr>\n",
       " <tr>\n",
       " <td style=\"width:50%;\">\n",
       "                                         16/11/2020                                    </td>\n",
       " <td style=\"width:50%;\">\n",
       "                                         5,432                                    </td>\n",
       " </tr>\n",
       " </tbody>\n",
       " </table>]"
      ]
     },
     "execution_count": 31,
     "metadata": {},
     "output_type": "execute_result"
    }
   ],
   "source": [
    "scraping.find_all('table')"
   ]
  },
  {
   "cell_type": "code",
   "execution_count": 32,
   "metadata": {},
   "outputs": [
    {
     "data": {
      "text/plain": [
       "[          Data  Dólar Comercial Atualizado às 16h30\n",
       " 0   04/12/2020                                 5128\n",
       " 1   03/12/2020                                 5137\n",
       " 2   02/12/2020                                 5245\n",
       " 3   01/12/2020                                 5234\n",
       " 4   30/11/2020                                 5353\n",
       " 5   27/11/2020                                 5329\n",
       " 6   26/11/2020                                 5330\n",
       " 7   25/11/2020                                 5318\n",
       " 8   24/11/2020                                 5385\n",
       " 9   23/11/2020                                 5437\n",
       " 10  20/11/2020                                 5372\n",
       " 11  19/11/2020                                 5312\n",
       " 12  18/11/2020                                 5345\n",
       " 13  17/11/2020                                 5338\n",
       " 14  16/11/2020                                 5432]"
      ]
     },
     "execution_count": 32,
     "metadata": {},
     "output_type": "execute_result"
    }
   ],
   "source": [
    "df = pd.read_html(scraping.prettify())\n",
    "\n",
    "df"
   ]
  },
  {
   "cell_type": "code",
   "execution_count": 33,
   "metadata": {},
   "outputs": [
    {
     "data": {
      "text/html": [
       "<div>\n",
       "<style scoped>\n",
       "    .dataframe tbody tr th:only-of-type {\n",
       "        vertical-align: middle;\n",
       "    }\n",
       "\n",
       "    .dataframe tbody tr th {\n",
       "        vertical-align: top;\n",
       "    }\n",
       "\n",
       "    .dataframe thead th {\n",
       "        text-align: right;\n",
       "    }\n",
       "</style>\n",
       "<table border=\"1\" class=\"dataframe\">\n",
       "  <thead>\n",
       "    <tr style=\"text-align: right;\">\n",
       "      <th></th>\n",
       "      <th>Data</th>\n",
       "      <th>Dólar Comercial Atualizado às 16h30</th>\n",
       "    </tr>\n",
       "  </thead>\n",
       "  <tbody>\n",
       "    <tr>\n",
       "      <th>0</th>\n",
       "      <td>04/12/2020</td>\n",
       "      <td>5128</td>\n",
       "    </tr>\n",
       "    <tr>\n",
       "      <th>1</th>\n",
       "      <td>03/12/2020</td>\n",
       "      <td>5137</td>\n",
       "    </tr>\n",
       "    <tr>\n",
       "      <th>2</th>\n",
       "      <td>02/12/2020</td>\n",
       "      <td>5245</td>\n",
       "    </tr>\n",
       "    <tr>\n",
       "      <th>3</th>\n",
       "      <td>01/12/2020</td>\n",
       "      <td>5234</td>\n",
       "    </tr>\n",
       "    <tr>\n",
       "      <th>4</th>\n",
       "      <td>30/11/2020</td>\n",
       "      <td>5353</td>\n",
       "    </tr>\n",
       "    <tr>\n",
       "      <th>5</th>\n",
       "      <td>27/11/2020</td>\n",
       "      <td>5329</td>\n",
       "    </tr>\n",
       "    <tr>\n",
       "      <th>6</th>\n",
       "      <td>26/11/2020</td>\n",
       "      <td>5330</td>\n",
       "    </tr>\n",
       "    <tr>\n",
       "      <th>7</th>\n",
       "      <td>25/11/2020</td>\n",
       "      <td>5318</td>\n",
       "    </tr>\n",
       "    <tr>\n",
       "      <th>8</th>\n",
       "      <td>24/11/2020</td>\n",
       "      <td>5385</td>\n",
       "    </tr>\n",
       "    <tr>\n",
       "      <th>9</th>\n",
       "      <td>23/11/2020</td>\n",
       "      <td>5437</td>\n",
       "    </tr>\n",
       "    <tr>\n",
       "      <th>10</th>\n",
       "      <td>20/11/2020</td>\n",
       "      <td>5372</td>\n",
       "    </tr>\n",
       "    <tr>\n",
       "      <th>11</th>\n",
       "      <td>19/11/2020</td>\n",
       "      <td>5312</td>\n",
       "    </tr>\n",
       "    <tr>\n",
       "      <th>12</th>\n",
       "      <td>18/11/2020</td>\n",
       "      <td>5345</td>\n",
       "    </tr>\n",
       "    <tr>\n",
       "      <th>13</th>\n",
       "      <td>17/11/2020</td>\n",
       "      <td>5338</td>\n",
       "    </tr>\n",
       "    <tr>\n",
       "      <th>14</th>\n",
       "      <td>16/11/2020</td>\n",
       "      <td>5432</td>\n",
       "    </tr>\n",
       "  </tbody>\n",
       "</table>\n",
       "</div>"
      ],
      "text/plain": [
       "          Data  Dólar Comercial Atualizado às 16h30\n",
       "0   04/12/2020                                 5128\n",
       "1   03/12/2020                                 5137\n",
       "2   02/12/2020                                 5245\n",
       "3   01/12/2020                                 5234\n",
       "4   30/11/2020                                 5353\n",
       "5   27/11/2020                                 5329\n",
       "6   26/11/2020                                 5330\n",
       "7   25/11/2020                                 5318\n",
       "8   24/11/2020                                 5385\n",
       "9   23/11/2020                                 5437\n",
       "10  20/11/2020                                 5372\n",
       "11  19/11/2020                                 5312\n",
       "12  18/11/2020                                 5345\n",
       "13  17/11/2020                                 5338\n",
       "14  16/11/2020                                 5432"
      ]
     },
     "execution_count": 33,
     "metadata": {},
     "output_type": "execute_result"
    }
   ],
   "source": [
    "len(df)\n",
    "\n",
    "df = df[0]\n",
    "\n",
    "df"
   ]
  },
  {
   "cell_type": "code",
   "execution_count": 34,
   "metadata": {},
   "outputs": [],
   "source": [
    "df[df.columns[1]] = df[df.columns[1]]/1000"
   ]
  },
  {
   "cell_type": "code",
   "execution_count": 35,
   "metadata": {},
   "outputs": [
    {
     "data": {
      "text/html": [
       "<div>\n",
       "<style scoped>\n",
       "    .dataframe tbody tr th:only-of-type {\n",
       "        vertical-align: middle;\n",
       "    }\n",
       "\n",
       "    .dataframe tbody tr th {\n",
       "        vertical-align: top;\n",
       "    }\n",
       "\n",
       "    .dataframe thead th {\n",
       "        text-align: right;\n",
       "    }\n",
       "</style>\n",
       "<table border=\"1\" class=\"dataframe\">\n",
       "  <thead>\n",
       "    <tr style=\"text-align: right;\">\n",
       "      <th></th>\n",
       "      <th>Data</th>\n",
       "      <th>Dólar Comercial Atualizado às 16h30</th>\n",
       "    </tr>\n",
       "  </thead>\n",
       "  <tbody>\n",
       "    <tr>\n",
       "      <th>0</th>\n",
       "      <td>04/12/2020</td>\n",
       "      <td>5.128</td>\n",
       "    </tr>\n",
       "    <tr>\n",
       "      <th>1</th>\n",
       "      <td>03/12/2020</td>\n",
       "      <td>5.137</td>\n",
       "    </tr>\n",
       "    <tr>\n",
       "      <th>2</th>\n",
       "      <td>02/12/2020</td>\n",
       "      <td>5.245</td>\n",
       "    </tr>\n",
       "    <tr>\n",
       "      <th>3</th>\n",
       "      <td>01/12/2020</td>\n",
       "      <td>5.234</td>\n",
       "    </tr>\n",
       "    <tr>\n",
       "      <th>4</th>\n",
       "      <td>30/11/2020</td>\n",
       "      <td>5.353</td>\n",
       "    </tr>\n",
       "    <tr>\n",
       "      <th>5</th>\n",
       "      <td>27/11/2020</td>\n",
       "      <td>5.329</td>\n",
       "    </tr>\n",
       "    <tr>\n",
       "      <th>6</th>\n",
       "      <td>26/11/2020</td>\n",
       "      <td>5.330</td>\n",
       "    </tr>\n",
       "    <tr>\n",
       "      <th>7</th>\n",
       "      <td>25/11/2020</td>\n",
       "      <td>5.318</td>\n",
       "    </tr>\n",
       "    <tr>\n",
       "      <th>8</th>\n",
       "      <td>24/11/2020</td>\n",
       "      <td>5.385</td>\n",
       "    </tr>\n",
       "    <tr>\n",
       "      <th>9</th>\n",
       "      <td>23/11/2020</td>\n",
       "      <td>5.437</td>\n",
       "    </tr>\n",
       "    <tr>\n",
       "      <th>10</th>\n",
       "      <td>20/11/2020</td>\n",
       "      <td>5.372</td>\n",
       "    </tr>\n",
       "    <tr>\n",
       "      <th>11</th>\n",
       "      <td>19/11/2020</td>\n",
       "      <td>5.312</td>\n",
       "    </tr>\n",
       "    <tr>\n",
       "      <th>12</th>\n",
       "      <td>18/11/2020</td>\n",
       "      <td>5.345</td>\n",
       "    </tr>\n",
       "    <tr>\n",
       "      <th>13</th>\n",
       "      <td>17/11/2020</td>\n",
       "      <td>5.338</td>\n",
       "    </tr>\n",
       "    <tr>\n",
       "      <th>14</th>\n",
       "      <td>16/11/2020</td>\n",
       "      <td>5.432</td>\n",
       "    </tr>\n",
       "  </tbody>\n",
       "</table>\n",
       "</div>"
      ],
      "text/plain": [
       "          Data  Dólar Comercial Atualizado às 16h30\n",
       "0   04/12/2020                                5.128\n",
       "1   03/12/2020                                5.137\n",
       "2   02/12/2020                                5.245\n",
       "3   01/12/2020                                5.234\n",
       "4   30/11/2020                                5.353\n",
       "5   27/11/2020                                5.329\n",
       "6   26/11/2020                                5.330\n",
       "7   25/11/2020                                5.318\n",
       "8   24/11/2020                                5.385\n",
       "9   23/11/2020                                5.437\n",
       "10  20/11/2020                                5.372\n",
       "11  19/11/2020                                5.312\n",
       "12  18/11/2020                                5.345\n",
       "13  17/11/2020                                5.338\n",
       "14  16/11/2020                                5.432"
      ]
     },
     "execution_count": 35,
     "metadata": {},
     "output_type": "execute_result"
    }
   ],
   "source": [
    "df"
   ]
  },
  {
   "cell_type": "code",
   "execution_count": 36,
   "metadata": {},
   "outputs": [],
   "source": [
    "data = df[df.columns[0]]\n",
    "\n",
    "dolar = df[df.columns[1]]"
   ]
  },
  {
   "cell_type": "code",
   "execution_count": 37,
   "metadata": {},
   "outputs": [
    {
     "data": {
      "text/plain": [
       "[<matplotlib.lines.Line2D at 0x25a4bb24fd0>]"
      ]
     },
     "execution_count": 37,
     "metadata": {},
     "output_type": "execute_result"
    },
    {
     "data": {
      "image/png": "[encoded data removed]",
      "text/plain": [
       "<Figure size 432x288 with 1 Axes>"
      ]
     },
     "metadata": {
      "needs_background": "light"
     },
     "output_type": "display_data"
    }
   ],
   "source": [
    "plt.plot(data, dolar)"
   ]
  },
  {
   "cell_type": "code",
   "execution_count": 38,
   "metadata": {},
   "outputs": [],
   "source": [
    "df_habt = pd.read_csv('Fundo Imobiliário HABT11 - Histórico  InfoMoney.csv')\n",
    "df_kncr = pd.read_csv('Fundos Imobiliários KNCR11 - Histórico  InfoMoney.csv')"
   ]
  },
  {
   "cell_type": "code",
   "execution_count": 39,
   "metadata": {},
   "outputs": [
    {
     "data": {
      "text/html": [
       "<div>\n",
       "<style scoped>\n",
       "    .dataframe tbody tr th:only-of-type {\n",
       "        vertical-align: middle;\n",
       "    }\n",
       "\n",
       "    .dataframe tbody tr th {\n",
       "        vertical-align: top;\n",
       "    }\n",
       "\n",
       "    .dataframe thead th {\n",
       "        text-align: right;\n",
       "    }\n",
       "</style>\n",
       "<table border=\"1\" class=\"dataframe\">\n",
       "  <thead>\n",
       "    <tr style=\"text-align: right;\">\n",
       "      <th></th>\n",
       "      <th>DATA</th>\n",
       "      <th>ABERTURA</th>\n",
       "      <th>FECHAMENTO</th>\n",
       "      <th>VARIAÇÃO</th>\n",
       "      <th>MÍNIMO</th>\n",
       "      <th>MÁXIMO</th>\n",
       "      <th>VOLUME</th>\n",
       "    </tr>\n",
       "  </thead>\n",
       "  <tbody>\n",
       "    <tr>\n",
       "      <th>0</th>\n",
       "      <td>02/12/2020</td>\n",
       "      <td>119,86</td>\n",
       "      <td>119,50</td>\n",
       "      <td>-0,18</td>\n",
       "      <td>118,51</td>\n",
       "      <td>119,97</td>\n",
       "      <td>1,73M</td>\n",
       "    </tr>\n",
       "    <tr>\n",
       "      <th>1</th>\n",
       "      <td>01/12/2020</td>\n",
       "      <td>121,49</td>\n",
       "      <td>119,71</td>\n",
       "      <td>-0,34</td>\n",
       "      <td>118,55</td>\n",
       "      <td>121,49</td>\n",
       "      <td>2,47M</td>\n",
       "    </tr>\n",
       "    <tr>\n",
       "      <th>2</th>\n",
       "      <td>30/11/2020</td>\n",
       "      <td>118,23</td>\n",
       "      <td>120,12</td>\n",
       "      <td>2,09</td>\n",
       "      <td>117,96</td>\n",
       "      <td>120,57</td>\n",
       "      <td>3,32M</td>\n",
       "    </tr>\n",
       "    <tr>\n",
       "      <th>3</th>\n",
       "      <td>27/11/2020</td>\n",
       "      <td>114,90</td>\n",
       "      <td>117,66</td>\n",
       "      <td>1,80</td>\n",
       "      <td>114,90</td>\n",
       "      <td>119,11</td>\n",
       "      <td>3,19M</td>\n",
       "    </tr>\n",
       "    <tr>\n",
       "      <th>4</th>\n",
       "      <td>26/11/2020</td>\n",
       "      <td>114,87</td>\n",
       "      <td>115,58</td>\n",
       "      <td>1,06</td>\n",
       "      <td>114,40</td>\n",
       "      <td>116,17</td>\n",
       "      <td>5,35M</td>\n",
       "    </tr>\n",
       "    <tr>\n",
       "      <th>...</th>\n",
       "      <td>...</td>\n",
       "      <td>...</td>\n",
       "      <td>...</td>\n",
       "      <td>...</td>\n",
       "      <td>...</td>\n",
       "      <td>...</td>\n",
       "      <td>...</td>\n",
       "    </tr>\n",
       "    <tr>\n",
       "      <th>95</th>\n",
       "      <td>17/07/2020</td>\n",
       "      <td>96,62</td>\n",
       "      <td>97,31</td>\n",
       "      <td>0,76</td>\n",
       "      <td>96,40</td>\n",
       "      <td>97,53</td>\n",
       "      <td>947,48K</td>\n",
       "    </tr>\n",
       "    <tr>\n",
       "      <th>96</th>\n",
       "      <td>16/07/2020</td>\n",
       "      <td>96,46</td>\n",
       "      <td>96,57</td>\n",
       "      <td>0,11</td>\n",
       "      <td>95,68</td>\n",
       "      <td>96,62</td>\n",
       "      <td>258,51K</td>\n",
       "    </tr>\n",
       "    <tr>\n",
       "      <th>97</th>\n",
       "      <td>15/07/2020</td>\n",
       "      <td>96,10</td>\n",
       "      <td>96,46</td>\n",
       "      <td>0,39</td>\n",
       "      <td>95,61</td>\n",
       "      <td>96,71</td>\n",
       "      <td>613,50K</td>\n",
       "    </tr>\n",
       "    <tr>\n",
       "      <th>98</th>\n",
       "      <td>14/07/2020</td>\n",
       "      <td>95,47</td>\n",
       "      <td>96,09</td>\n",
       "      <td>0,00</td>\n",
       "      <td>95,51</td>\n",
       "      <td>96,48</td>\n",
       "      <td>595,05K</td>\n",
       "    </tr>\n",
       "    <tr>\n",
       "      <th>99</th>\n",
       "      <td>13/07/2020</td>\n",
       "      <td>96,00</td>\n",
       "      <td>96,09</td>\n",
       "      <td>0,10</td>\n",
       "      <td>95,15</td>\n",
       "      <td>96,67</td>\n",
       "      <td>578,19K</td>\n",
       "    </tr>\n",
       "  </tbody>\n",
       "</table>\n",
       "<p>100 rows × 7 columns</p>\n",
       "</div>"
      ],
      "text/plain": [
       "          DATA ABERTURA FECHAMENTO VARIAÇÃO  MÍNIMO  MÁXIMO   VOLUME\n",
       "0   02/12/2020   119,86     119,50    -0,18  118,51  119,97    1,73M\n",
       "1   01/12/2020   121,49     119,71    -0,34  118,55  121,49    2,47M\n",
       "2   30/11/2020   118,23     120,12     2,09  117,96  120,57    3,32M\n",
       "3   27/11/2020   114,90     117,66     1,80  114,90  119,11    3,19M\n",
       "4   26/11/2020   114,87     115,58     1,06  114,40  116,17    5,35M\n",
       "..         ...      ...        ...      ...     ...     ...      ...\n",
       "95  17/07/2020    96,62      97,31     0,76   96,40   97,53  947,48K\n",
       "96  16/07/2020    96,46      96,57     0,11   95,68   96,62  258,51K\n",
       "97  15/07/2020    96,10      96,46     0,39   95,61   96,71  613,50K\n",
       "98  14/07/2020    95,47      96,09     0,00   95,51   96,48  595,05K\n",
       "99  13/07/2020    96,00      96,09     0,10   95,15   96,67  578,19K\n",
       "\n",
       "[100 rows x 7 columns]"
      ]
     },
     "execution_count": 39,
     "metadata": {},
     "output_type": "execute_result"
    }
   ],
   "source": [
    "df_habt"
   ]
  },
  {
   "cell_type": "code",
   "execution_count": 40,
   "metadata": {},
   "outputs": [
    {
     "data": {
      "text/html": [
       "<div>\n",
       "<style scoped>\n",
       "    .dataframe tbody tr th:only-of-type {\n",
       "        vertical-align: middle;\n",
       "    }\n",
       "\n",
       "    .dataframe tbody tr th {\n",
       "        vertical-align: top;\n",
       "    }\n",
       "\n",
       "    .dataframe thead th {\n",
       "        text-align: right;\n",
       "    }\n",
       "</style>\n",
       "<table border=\"1\" class=\"dataframe\">\n",
       "  <thead>\n",
       "    <tr style=\"text-align: right;\">\n",
       "      <th></th>\n",
       "      <th>DATA</th>\n",
       "      <th>ABERTURA</th>\n",
       "      <th>FECHAMENTO</th>\n",
       "      <th>VARIAÇÃO</th>\n",
       "      <th>MÍNIMO</th>\n",
       "      <th>MÁXIMO</th>\n",
       "      <th>VOLUME</th>\n",
       "    </tr>\n",
       "  </thead>\n",
       "  <tbody>\n",
       "    <tr>\n",
       "      <th>0</th>\n",
       "      <td>02/12/2020</td>\n",
       "      <td>119,86</td>\n",
       "      <td>119,50</td>\n",
       "      <td>-0,18</td>\n",
       "      <td>118,51</td>\n",
       "      <td>119,97</td>\n",
       "      <td>1730000</td>\n",
       "    </tr>\n",
       "    <tr>\n",
       "      <th>1</th>\n",
       "      <td>01/12/2020</td>\n",
       "      <td>121,49</td>\n",
       "      <td>119,71</td>\n",
       "      <td>-0,34</td>\n",
       "      <td>118,55</td>\n",
       "      <td>121,49</td>\n",
       "      <td>2470000</td>\n",
       "    </tr>\n",
       "    <tr>\n",
       "      <th>2</th>\n",
       "      <td>30/11/2020</td>\n",
       "      <td>118,23</td>\n",
       "      <td>120,12</td>\n",
       "      <td>2,09</td>\n",
       "      <td>117,96</td>\n",
       "      <td>120,57</td>\n",
       "      <td>3320000</td>\n",
       "    </tr>\n",
       "    <tr>\n",
       "      <th>3</th>\n",
       "      <td>27/11/2020</td>\n",
       "      <td>114,90</td>\n",
       "      <td>117,66</td>\n",
       "      <td>1,80</td>\n",
       "      <td>114,90</td>\n",
       "      <td>119,11</td>\n",
       "      <td>3190000</td>\n",
       "    </tr>\n",
       "    <tr>\n",
       "      <th>4</th>\n",
       "      <td>26/11/2020</td>\n",
       "      <td>114,87</td>\n",
       "      <td>115,58</td>\n",
       "      <td>1,06</td>\n",
       "      <td>114,40</td>\n",
       "      <td>116,17</td>\n",
       "      <td>5350000</td>\n",
       "    </tr>\n",
       "    <tr>\n",
       "      <th>...</th>\n",
       "      <td>...</td>\n",
       "      <td>...</td>\n",
       "      <td>...</td>\n",
       "      <td>...</td>\n",
       "      <td>...</td>\n",
       "      <td>...</td>\n",
       "      <td>...</td>\n",
       "    </tr>\n",
       "    <tr>\n",
       "      <th>95</th>\n",
       "      <td>17/07/2020</td>\n",
       "      <td>96,62</td>\n",
       "      <td>97,31</td>\n",
       "      <td>0,76</td>\n",
       "      <td>96,40</td>\n",
       "      <td>97,53</td>\n",
       "      <td>947480</td>\n",
       "    </tr>\n",
       "    <tr>\n",
       "      <th>96</th>\n",
       "      <td>16/07/2020</td>\n",
       "      <td>96,46</td>\n",
       "      <td>96,57</td>\n",
       "      <td>0,11</td>\n",
       "      <td>95,68</td>\n",
       "      <td>96,62</td>\n",
       "      <td>258510</td>\n",
       "    </tr>\n",
       "    <tr>\n",
       "      <th>97</th>\n",
       "      <td>15/07/2020</td>\n",
       "      <td>96,10</td>\n",
       "      <td>96,46</td>\n",
       "      <td>0,39</td>\n",
       "      <td>95,61</td>\n",
       "      <td>96,71</td>\n",
       "      <td>613500</td>\n",
       "    </tr>\n",
       "    <tr>\n",
       "      <th>98</th>\n",
       "      <td>14/07/2020</td>\n",
       "      <td>95,47</td>\n",
       "      <td>96,09</td>\n",
       "      <td>0,00</td>\n",
       "      <td>95,51</td>\n",
       "      <td>96,48</td>\n",
       "      <td>595050</td>\n",
       "    </tr>\n",
       "    <tr>\n",
       "      <th>99</th>\n",
       "      <td>13/07/2020</td>\n",
       "      <td>96,00</td>\n",
       "      <td>96,09</td>\n",
       "      <td>0,10</td>\n",
       "      <td>95,15</td>\n",
       "      <td>96,67</td>\n",
       "      <td>578190</td>\n",
       "    </tr>\n",
       "  </tbody>\n",
       "</table>\n",
       "<p>100 rows × 7 columns</p>\n",
       "</div>"
      ],
      "text/plain": [
       "          DATA ABERTURA FECHAMENTO VARIAÇÃO  MÍNIMO  MÁXIMO   VOLUME\n",
       "0   02/12/2020   119,86     119,50    -0,18  118,51  119,97  1730000\n",
       "1   01/12/2020   121,49     119,71    -0,34  118,55  121,49  2470000\n",
       "2   30/11/2020   118,23     120,12     2,09  117,96  120,57  3320000\n",
       "3   27/11/2020   114,90     117,66     1,80  114,90  119,11  3190000\n",
       "4   26/11/2020   114,87     115,58     1,06  114,40  116,17  5350000\n",
       "..         ...      ...        ...      ...     ...     ...      ...\n",
       "95  17/07/2020    96,62      97,31     0,76   96,40   97,53   947480\n",
       "96  16/07/2020    96,46      96,57     0,11   95,68   96,62   258510\n",
       "97  15/07/2020    96,10      96,46     0,39   95,61   96,71   613500\n",
       "98  14/07/2020    95,47      96,09     0,00   95,51   96,48   595050\n",
       "99  13/07/2020    96,00      96,09     0,10   95,15   96,67   578190\n",
       "\n",
       "[100 rows x 7 columns]"
      ]
     },
     "execution_count": 40,
     "metadata": {},
     "output_type": "execute_result"
    }
   ],
   "source": [
    "#como trocar o M por mihões e K por milhares\n",
    "\n",
    "df_habt['VOLUME'] = df_habt['VOLUME'].apply(lambda x: x.replace(',',''))\n",
    "\n",
    "df_habt['VOLUME'] = df_habt['VOLUME'].apply(lambda x: x.replace('M','0000'))\n",
    "df_habt['VOLUME'] = df_habt['VOLUME'].apply(lambda x: x.replace('K','0'))\n",
    "\n",
    "df_habt"
   ]
  },
  {
   "cell_type": "code",
   "execution_count": 41,
   "metadata": {},
   "outputs": [
    {
     "data": {
      "text/html": [
       "<div>\n",
       "<style scoped>\n",
       "    .dataframe tbody tr th:only-of-type {\n",
       "        vertical-align: middle;\n",
       "    }\n",
       "\n",
       "    .dataframe tbody tr th {\n",
       "        vertical-align: top;\n",
       "    }\n",
       "\n",
       "    .dataframe thead th {\n",
       "        text-align: right;\n",
       "    }\n",
       "</style>\n",
       "<table border=\"1\" class=\"dataframe\">\n",
       "  <thead>\n",
       "    <tr style=\"text-align: right;\">\n",
       "      <th></th>\n",
       "      <th>DATA</th>\n",
       "      <th>ABERTURA</th>\n",
       "      <th>FECHAMENTO</th>\n",
       "      <th>VARIAÇÃO</th>\n",
       "      <th>MÍNIMO</th>\n",
       "      <th>MÁXIMO</th>\n",
       "      <th>VOLUME</th>\n",
       "    </tr>\n",
       "  </thead>\n",
       "  <tbody>\n",
       "    <tr>\n",
       "      <th>0</th>\n",
       "      <td>21/09/2020</td>\n",
       "      <td>87,75</td>\n",
       "      <td>88,20</td>\n",
       "      <td>0,52</td>\n",
       "      <td>87,10</td>\n",
       "      <td>88,43</td>\n",
       "      <td>4,83M</td>\n",
       "    </tr>\n",
       "    <tr>\n",
       "      <th>1</th>\n",
       "      <td>18/09/2020</td>\n",
       "      <td>88,23</td>\n",
       "      <td>87,75</td>\n",
       "      <td>-0,55</td>\n",
       "      <td>87,34</td>\n",
       "      <td>88,71</td>\n",
       "      <td>5,45M</td>\n",
       "    </tr>\n",
       "    <tr>\n",
       "      <th>2</th>\n",
       "      <td>17/09/2020</td>\n",
       "      <td>88,47</td>\n",
       "      <td>88,23</td>\n",
       "      <td>-0,22</td>\n",
       "      <td>87,89</td>\n",
       "      <td>88,58</td>\n",
       "      <td>3,87M</td>\n",
       "    </tr>\n",
       "    <tr>\n",
       "      <th>3</th>\n",
       "      <td>16/09/2020</td>\n",
       "      <td>88,96</td>\n",
       "      <td>88,43</td>\n",
       "      <td>-0,66</td>\n",
       "      <td>88,02</td>\n",
       "      <td>88,96</td>\n",
       "      <td>3,42M</td>\n",
       "    </tr>\n",
       "    <tr>\n",
       "      <th>4</th>\n",
       "      <td>15/09/2020</td>\n",
       "      <td>89,40</td>\n",
       "      <td>89,02</td>\n",
       "      <td>-0,43</td>\n",
       "      <td>86,80</td>\n",
       "      <td>89,67</td>\n",
       "      <td>4,38M</td>\n",
       "    </tr>\n",
       "    <tr>\n",
       "      <th>...</th>\n",
       "      <td>...</td>\n",
       "      <td>...</td>\n",
       "      <td>...</td>\n",
       "      <td>...</td>\n",
       "      <td>...</td>\n",
       "      <td>...</td>\n",
       "      <td>...</td>\n",
       "    </tr>\n",
       "    <tr>\n",
       "      <th>95</th>\n",
       "      <td>07/05/2020</td>\n",
       "      <td>91,77</td>\n",
       "      <td>90,13</td>\n",
       "      <td>-1,20</td>\n",
       "      <td>90,04</td>\n",
       "      <td>91,77</td>\n",
       "      <td>3,26M</td>\n",
       "    </tr>\n",
       "    <tr>\n",
       "      <th>96</th>\n",
       "      <td>06/05/2020</td>\n",
       "      <td>91,18</td>\n",
       "      <td>91,23</td>\n",
       "      <td>0,28</td>\n",
       "      <td>91,11</td>\n",
       "      <td>92,28</td>\n",
       "      <td>3,12M</td>\n",
       "    </tr>\n",
       "    <tr>\n",
       "      <th>97</th>\n",
       "      <td>05/05/2020</td>\n",
       "      <td>93,74</td>\n",
       "      <td>90,98</td>\n",
       "      <td>-2,93</td>\n",
       "      <td>90,95</td>\n",
       "      <td>94,31</td>\n",
       "      <td>7,52M</td>\n",
       "    </tr>\n",
       "    <tr>\n",
       "      <th>98</th>\n",
       "      <td>04/05/2020</td>\n",
       "      <td>92,74</td>\n",
       "      <td>93,72</td>\n",
       "      <td>0,32</td>\n",
       "      <td>91,09</td>\n",
       "      <td>94,71</td>\n",
       "      <td>6,20M</td>\n",
       "    </tr>\n",
       "    <tr>\n",
       "      <th>99</th>\n",
       "      <td>30/04/2020</td>\n",
       "      <td>92,63</td>\n",
       "      <td>93,43</td>\n",
       "      <td>0,87</td>\n",
       "      <td>92,60</td>\n",
       "      <td>95,33</td>\n",
       "      <td>5,99M</td>\n",
       "    </tr>\n",
       "  </tbody>\n",
       "</table>\n",
       "<p>100 rows × 7 columns</p>\n",
       "</div>"
      ],
      "text/plain": [
       "          DATA ABERTURA FECHAMENTO VARIAÇÃO MÍNIMO MÁXIMO VOLUME\n",
       "0   21/09/2020    87,75      88,20     0,52  87,10  88,43  4,83M\n",
       "1   18/09/2020    88,23      87,75    -0,55  87,34  88,71  5,45M\n",
       "2   17/09/2020    88,47      88,23    -0,22  87,89  88,58  3,87M\n",
       "3   16/09/2020    88,96      88,43    -0,66  88,02  88,96  3,42M\n",
       "4   15/09/2020    89,40      89,02    -0,43  86,80  89,67  4,38M\n",
       "..         ...      ...        ...      ...    ...    ...    ...\n",
       "95  07/05/2020    91,77      90,13    -1,20  90,04  91,77  3,26M\n",
       "96  06/05/2020    91,18      91,23     0,28  91,11  92,28  3,12M\n",
       "97  05/05/2020    93,74      90,98    -2,93  90,95  94,31  7,52M\n",
       "98  04/05/2020    92,74      93,72     0,32  91,09  94,71  6,20M\n",
       "99  30/04/2020    92,63      93,43     0,87  92,60  95,33  5,99M\n",
       "\n",
       "[100 rows x 7 columns]"
      ]
     },
     "execution_count": 41,
     "metadata": {},
     "output_type": "execute_result"
    }
   ],
   "source": [
    "df_kncr"
   ]
  },
  {
   "cell_type": "code",
   "execution_count": 42,
   "metadata": {},
   "outputs": [
    {
     "data": {
      "text/html": [
       "<div>\n",
       "<style scoped>\n",
       "    .dataframe tbody tr th:only-of-type {\n",
       "        vertical-align: middle;\n",
       "    }\n",
       "\n",
       "    .dataframe tbody tr th {\n",
       "        vertical-align: top;\n",
       "    }\n",
       "\n",
       "    .dataframe thead th {\n",
       "        text-align: right;\n",
       "    }\n",
       "</style>\n",
       "<table border=\"1\" class=\"dataframe\">\n",
       "  <thead>\n",
       "    <tr style=\"text-align: right;\">\n",
       "      <th></th>\n",
       "      <th>DATA</th>\n",
       "      <th>ABERTURA</th>\n",
       "      <th>FECHAMENTO</th>\n",
       "      <th>VARIAÇÃO</th>\n",
       "      <th>MÍNIMO</th>\n",
       "      <th>MÁXIMO</th>\n",
       "      <th>VOLUME</th>\n",
       "    </tr>\n",
       "  </thead>\n",
       "  <tbody>\n",
       "    <tr>\n",
       "      <th>0</th>\n",
       "      <td>21/09/2020</td>\n",
       "      <td>87,75</td>\n",
       "      <td>88,20</td>\n",
       "      <td>0,52</td>\n",
       "      <td>87,10</td>\n",
       "      <td>88,43</td>\n",
       "      <td>4830000</td>\n",
       "    </tr>\n",
       "    <tr>\n",
       "      <th>1</th>\n",
       "      <td>18/09/2020</td>\n",
       "      <td>88,23</td>\n",
       "      <td>87,75</td>\n",
       "      <td>-0,55</td>\n",
       "      <td>87,34</td>\n",
       "      <td>88,71</td>\n",
       "      <td>5450000</td>\n",
       "    </tr>\n",
       "    <tr>\n",
       "      <th>2</th>\n",
       "      <td>17/09/2020</td>\n",
       "      <td>88,47</td>\n",
       "      <td>88,23</td>\n",
       "      <td>-0,22</td>\n",
       "      <td>87,89</td>\n",
       "      <td>88,58</td>\n",
       "      <td>3870000</td>\n",
       "    </tr>\n",
       "    <tr>\n",
       "      <th>3</th>\n",
       "      <td>16/09/2020</td>\n",
       "      <td>88,96</td>\n",
       "      <td>88,43</td>\n",
       "      <td>-0,66</td>\n",
       "      <td>88,02</td>\n",
       "      <td>88,96</td>\n",
       "      <td>3420000</td>\n",
       "    </tr>\n",
       "    <tr>\n",
       "      <th>4</th>\n",
       "      <td>15/09/2020</td>\n",
       "      <td>89,40</td>\n",
       "      <td>89,02</td>\n",
       "      <td>-0,43</td>\n",
       "      <td>86,80</td>\n",
       "      <td>89,67</td>\n",
       "      <td>4380000</td>\n",
       "    </tr>\n",
       "    <tr>\n",
       "      <th>...</th>\n",
       "      <td>...</td>\n",
       "      <td>...</td>\n",
       "      <td>...</td>\n",
       "      <td>...</td>\n",
       "      <td>...</td>\n",
       "      <td>...</td>\n",
       "      <td>...</td>\n",
       "    </tr>\n",
       "    <tr>\n",
       "      <th>95</th>\n",
       "      <td>07/05/2020</td>\n",
       "      <td>91,77</td>\n",
       "      <td>90,13</td>\n",
       "      <td>-1,20</td>\n",
       "      <td>90,04</td>\n",
       "      <td>91,77</td>\n",
       "      <td>3260000</td>\n",
       "    </tr>\n",
       "    <tr>\n",
       "      <th>96</th>\n",
       "      <td>06/05/2020</td>\n",
       "      <td>91,18</td>\n",
       "      <td>91,23</td>\n",
       "      <td>0,28</td>\n",
       "      <td>91,11</td>\n",
       "      <td>92,28</td>\n",
       "      <td>3120000</td>\n",
       "    </tr>\n",
       "    <tr>\n",
       "      <th>97</th>\n",
       "      <td>05/05/2020</td>\n",
       "      <td>93,74</td>\n",
       "      <td>90,98</td>\n",
       "      <td>-2,93</td>\n",
       "      <td>90,95</td>\n",
       "      <td>94,31</td>\n",
       "      <td>7520000</td>\n",
       "    </tr>\n",
       "    <tr>\n",
       "      <th>98</th>\n",
       "      <td>04/05/2020</td>\n",
       "      <td>92,74</td>\n",
       "      <td>93,72</td>\n",
       "      <td>0,32</td>\n",
       "      <td>91,09</td>\n",
       "      <td>94,71</td>\n",
       "      <td>6200000</td>\n",
       "    </tr>\n",
       "    <tr>\n",
       "      <th>99</th>\n",
       "      <td>30/04/2020</td>\n",
       "      <td>92,63</td>\n",
       "      <td>93,43</td>\n",
       "      <td>0,87</td>\n",
       "      <td>92,60</td>\n",
       "      <td>95,33</td>\n",
       "      <td>5990000</td>\n",
       "    </tr>\n",
       "  </tbody>\n",
       "</table>\n",
       "<p>100 rows × 7 columns</p>\n",
       "</div>"
      ],
      "text/plain": [
       "          DATA ABERTURA FECHAMENTO VARIAÇÃO MÍNIMO MÁXIMO   VOLUME\n",
       "0   21/09/2020    87,75      88,20     0,52  87,10  88,43  4830000\n",
       "1   18/09/2020    88,23      87,75    -0,55  87,34  88,71  5450000\n",
       "2   17/09/2020    88,47      88,23    -0,22  87,89  88,58  3870000\n",
       "3   16/09/2020    88,96      88,43    -0,66  88,02  88,96  3420000\n",
       "4   15/09/2020    89,40      89,02    -0,43  86,80  89,67  4380000\n",
       "..         ...      ...        ...      ...    ...    ...      ...\n",
       "95  07/05/2020    91,77      90,13    -1,20  90,04  91,77  3260000\n",
       "96  06/05/2020    91,18      91,23     0,28  91,11  92,28  3120000\n",
       "97  05/05/2020    93,74      90,98    -2,93  90,95  94,31  7520000\n",
       "98  04/05/2020    92,74      93,72     0,32  91,09  94,71  6200000\n",
       "99  30/04/2020    92,63      93,43     0,87  92,60  95,33  5990000\n",
       "\n",
       "[100 rows x 7 columns]"
      ]
     },
     "execution_count": 42,
     "metadata": {},
     "output_type": "execute_result"
    }
   ],
   "source": [
    "df_kncr['VOLUME'] = df_kncr['VOLUME'].apply(lambda x: x.replace(',',''))\n",
    "\n",
    "df_kncr['VOLUME'] = df_kncr['VOLUME'].apply(lambda x: x.replace('M','0000'))\n",
    "df_kncr['VOLUME'] = df_kncr['VOLUME'].apply(lambda x: x.replace('K','0'))\n",
    "\n",
    "df_kncr"
   ]
  },
  {
   "cell_type": "code",
   "execution_count": 43,
   "metadata": {},
   "outputs": [],
   "source": [
    "df_habt = df_habt.apply(lambda x: x.str.replace(',','.'))"
   ]
  },
  {
   "cell_type": "code",
   "execution_count": 44,
   "metadata": {},
   "outputs": [],
   "source": [
    "df_kncr = df_kncr.apply(lambda x: x.str.replace(',','.'))"
   ]
  },
  {
   "cell_type": "code",
   "execution_count": 45,
   "metadata": {},
   "outputs": [],
   "source": [
    "abertura_habt = df_habt['ABERTURA'].values"
   ]
  },
  {
   "cell_type": "code",
   "execution_count": 46,
   "metadata": {},
   "outputs": [
    {
     "data": {
      "text/plain": [
       "array(['119.86', '121.49', '118.23', '114.90', '114.87', '114.00',\n",
       "       '113.82', '113.84', '113.60', '113.68', '113.50', '113.61',\n",
       "       '113.56', '113.46', '113.12', '113.12', '113.12', '112.72',\n",
       "       '112.63', '112.48', '112.13', '112.22', '110.75', '110.48',\n",
       "       '111.44', '111.42', '112.15', '111.67', '111.34', '111.91',\n",
       "       '111.92', '111.99', '111.34', '111.30', '111.22', '111.92',\n",
       "       '111.82', '112.18', '111.92', '111.44', '111.46', '111.15',\n",
       "       '110.67', '110.06', '109.45', '110.36', '110.15', '110.36',\n",
       "       '109.33', '109.79', '109.95', '109.87', '109.11', '108.77',\n",
       "       '107.09', '108.49', '109.65', '109.72', '109.22', '109.00',\n",
       "       '108.03', '107.09', '106.70', '104.87', '104.10', '103.87',\n",
       "       '103.24', '104.68', '103.60', '102.65', '101.97', '101.78',\n",
       "       '103.93', '104.57', '105.42', '105.00', '104.09', '104.17',\n",
       "       '101.64', '100.33', '99.70', '99.37', '99.37', '98.51', '98.47',\n",
       "       '97.81', '98.09', '98.00', '97.33', '96.77', '96.59', '98.01',\n",
       "       '97.53', '97.72', '97.57', '96.62', '96.46', '96.10', '95.47',\n",
       "       '96.00'], dtype=object)"
      ]
     },
     "execution_count": 46,
     "metadata": {},
     "output_type": "execute_result"
    }
   ],
   "source": [
    "abertura_habt"
   ]
  },
  {
   "cell_type": "code",
   "execution_count": 47,
   "metadata": {},
   "outputs": [],
   "source": [
    "abertura_kncr = df_kncr['ABERTURA'].values"
   ]
  },
  {
   "cell_type": "code",
   "execution_count": 48,
   "metadata": {},
   "outputs": [
    {
     "data": {
      "text/plain": [
       "array(['87.75', '88.23', '88.47', '88.96', '89.40', '89.70', '88.36',\n",
       "       '88.21', '87.72', '87.78', '88.31', '88.00', '87.84', '88.19',\n",
       "       '88.31', '88.23', '88.97', '88.81', '88.36', '88.21', '87.88',\n",
       "       '87.62', '87.68', '88.16', '88.71', '87.99', '86.99', '86.89',\n",
       "       '87.68', '87.82', '88.22', '88.00', '87.72', '87.61', '86.94',\n",
       "       '86.93', '85.24', '83.96', '84.44', '85.27', '84.55', '84.85',\n",
       "       '85.84', '86.09', '86.06', '86.35', '86.63', '86.94', '87.32',\n",
       "       '87.00', '87.11', '87.25', '86.93', '88.79', '89.54', '89.89',\n",
       "       '91.04', '91.31', '91.45', '91.48', '91.47', '91.24', '91.86',\n",
       "       '91.74', '92.35', '90.83', '90.53', '91.95', '92.06', '91.62',\n",
       "       '91.57', '92.35', '90.64', '91.05', '91.07', '91.37', '91.07',\n",
       "       '91.08', '90.98', '91.07', '90.29', '90.22', '90.15', '89.99',\n",
       "       '89.32', '90.39', '90.47', '89.85', '90.43', '89.80', '89.41',\n",
       "       '90.48', '91.66', '89.99', '90.58', '91.77', '91.18', '93.74',\n",
       "       '92.74', '92.63'], dtype=object)"
      ]
     },
     "execution_count": 48,
     "metadata": {},
     "output_type": "execute_result"
    }
   ],
   "source": [
    "abertura_kncr"
   ]
  },
  {
   "cell_type": "code",
   "execution_count": 49,
   "metadata": {},
   "outputs": [],
   "source": [
    "abertura_habt = abertura_habt.astype(np.float)"
   ]
  },
  {
   "cell_type": "code",
   "execution_count": 50,
   "metadata": {},
   "outputs": [],
   "source": [
    "abertura_kncr = abertura_kncr.astype(np.float)"
   ]
  },
  {
   "cell_type": "code",
   "execution_count": 51,
   "metadata": {},
   "outputs": [
    {
     "data": {
      "text/plain": [
       "array([119.86, 121.49, 118.23, 114.9 , 114.87, 114.  , 113.82, 113.84,\n",
       "       113.6 , 113.68, 113.5 , 113.61, 113.56, 113.46, 113.12, 113.12,\n",
       "       113.12, 112.72, 112.63, 112.48, 112.13, 112.22, 110.75, 110.48,\n",
       "       111.44, 111.42, 112.15, 111.67, 111.34, 111.91, 111.92, 111.99,\n",
       "       111.34, 111.3 , 111.22, 111.92, 111.82, 112.18, 111.92, 111.44,\n",
       "       111.46, 111.15, 110.67, 110.06, 109.45, 110.36, 110.15, 110.36,\n",
       "       109.33, 109.79, 109.95, 109.87, 109.11, 108.77, 107.09, 108.49,\n",
       "       109.65, 109.72, 109.22, 109.  , 108.03, 107.09, 106.7 , 104.87,\n",
       "       104.1 , 103.87, 103.24, 104.68, 103.6 , 102.65, 101.97, 101.78,\n",
       "       103.93, 104.57, 105.42, 105.  , 104.09, 104.17, 101.64, 100.33,\n",
       "        99.7 ,  99.37,  99.37,  98.51,  98.47,  97.81,  98.09,  98.  ,\n",
       "        97.33,  96.77,  96.59,  98.01,  97.53,  97.72,  97.57,  96.62,\n",
       "        96.46,  96.1 ,  95.47,  96.  ])"
      ]
     },
     "execution_count": 51,
     "metadata": {},
     "output_type": "execute_result"
    }
   ],
   "source": [
    "abertura_habt"
   ]
  },
  {
   "cell_type": "code",
   "execution_count": 52,
   "metadata": {},
   "outputs": [
    {
     "data": {
      "text/plain": [
       "array([87.75, 88.23, 88.47, 88.96, 89.4 , 89.7 , 88.36, 88.21, 87.72,\n",
       "       87.78, 88.31, 88.  , 87.84, 88.19, 88.31, 88.23, 88.97, 88.81,\n",
       "       88.36, 88.21, 87.88, 87.62, 87.68, 88.16, 88.71, 87.99, 86.99,\n",
       "       86.89, 87.68, 87.82, 88.22, 88.  , 87.72, 87.61, 86.94, 86.93,\n",
       "       85.24, 83.96, 84.44, 85.27, 84.55, 84.85, 85.84, 86.09, 86.06,\n",
       "       86.35, 86.63, 86.94, 87.32, 87.  , 87.11, 87.25, 86.93, 88.79,\n",
       "       89.54, 89.89, 91.04, 91.31, 91.45, 91.48, 91.47, 91.24, 91.86,\n",
       "       91.74, 92.35, 90.83, 90.53, 91.95, 92.06, 91.62, 91.57, 92.35,\n",
       "       90.64, 91.05, 91.07, 91.37, 91.07, 91.08, 90.98, 91.07, 90.29,\n",
       "       90.22, 90.15, 89.99, 89.32, 90.39, 90.47, 89.85, 90.43, 89.8 ,\n",
       "       89.41, 90.48, 91.66, 89.99, 90.58, 91.77, 91.18, 93.74, 92.74,\n",
       "       92.63])"
      ]
     },
     "execution_count": 52,
     "metadata": {},
     "output_type": "execute_result"
    }
   ],
   "source": [
    "abertura_kncr"
   ]
  },
  {
   "cell_type": "code",
   "execution_count": 53,
   "metadata": {},
   "outputs": [
    {
     "data": {
      "text/plain": [
       "Text(0, 0.5, 'KNCR11')"
      ]
     },
     "execution_count": 53,
     "metadata": {},
     "output_type": "execute_result"
    },
    {
     "data": {
      "image/png": "[encoded data removed]",
      "text/plain": [
       "<Figure size 432x288 with 1 Axes>"
      ]
     },
     "metadata": {
      "needs_background": "light"
     },
     "output_type": "display_data"
    }
   ],
   "source": [
    "plt.scatter(abertura_habt, abertura_kncr)\n",
    "plt.xlabel('HABT11')\n",
    "plt.ylabel('KNCR11')"
   ]
  },
  {
   "cell_type": "code",
   "execution_count": 54,
   "metadata": {},
   "outputs": [],
   "source": [
    "from sklearn import linear_model\n",
    "from sklearn.metrics import mean_squared_error, r2_score"
   ]
  },
  {
   "cell_type": "code",
   "execution_count": 55,
   "metadata": {},
   "outputs": [],
   "source": [
    "regressao = linear_model.LinearRegression()"
   ]
  },
  {
   "cell_type": "code",
   "execution_count": 56,
   "metadata": {},
   "outputs": [
    {
     "data": {
      "text/plain": [
       "LinearRegression()"
      ]
     },
     "execution_count": 56,
     "metadata": {},
     "output_type": "execute_result"
    }
   ],
   "source": [
    "regressao.fit(abertura_habt.reshape(-1,1), abertura_kncr)"
   ]
  },
  {
   "cell_type": "code",
   "execution_count": 57,
   "metadata": {},
   "outputs": [],
   "source": [
    "valoresPredito = regressao.predict(abertura_habt.reshape(-1,1))"
   ]
  },
  {
   "cell_type": "code",
   "execution_count": 58,
   "metadata": {},
   "outputs": [
    {
     "data": {
      "text/plain": [
       "array([86.34083984, 85.97860969, 86.70306999, 87.44308618, 87.449753  ,\n",
       "       87.64309056, 87.68309144, 87.67864689, 87.7319814 , 87.71420323,\n",
       "       87.7542041 , 87.72975912, 87.74087048, 87.76309319, 87.8386504 ,\n",
       "       87.8386504 , 87.8386504 , 87.92754123, 87.94754167, 87.98087573,\n",
       "       88.05865521, 88.03865477, 88.36532859, 88.4253299 , 88.2119919 ,\n",
       "       88.21643644, 88.05421067, 88.16087967, 88.23421461, 88.10754517,\n",
       "       88.1053229 , 88.089767  , 88.23421461, 88.24310369, 88.26088186,\n",
       "       88.1053229 , 88.12754561, 88.04754386, 88.1053229 , 88.2119919 ,\n",
       "       88.20754736, 88.27643776, 88.38310676, 88.51866528, 88.6542238 ,\n",
       "       88.45199715, 88.49866484, 88.45199715, 88.68089105, 88.57866659,\n",
       "       88.54311026, 88.56088843, 88.72978101, 88.80533822, 89.17867973,\n",
       "       88.8675618 , 88.60977838, 88.59422249, 88.70533603, 88.75422599,\n",
       "       88.96978626, 89.17867973, 89.26534829, 89.67202386, 89.84313871,\n",
       "       89.89425094, 90.03425401, 89.714247  , 89.95425226, 90.16536799,\n",
       "       90.31648241, 90.35870555, 89.88091732, 89.73869198, 89.54979896,\n",
       "       89.64313434, 89.84536098, 89.82758282, 90.38981734, 90.68093483,\n",
       "       90.82093789, 90.89427283, 90.89427283, 91.08538812, 91.09427721,\n",
       "       91.24094708, 91.1787235 , 91.19872394, 91.34761609, 91.47206325,\n",
       "       91.51206413, 91.19650167, 91.30317067, 91.26094752, 91.29428158,\n",
       "       91.50539732, 91.54095365, 91.6209554 , 91.76095847, 91.64317811])"
      ]
     },
     "execution_count": 58,
     "metadata": {},
     "output_type": "execute_result"
    }
   ],
   "source": [
    "valoresPredito"
   ]
  },
  {
   "cell_type": "code",
   "execution_count": 59,
   "metadata": {},
   "outputs": [
    {
     "data": {
      "text/plain": [
       "Text(0, 0.5, 'KNCR11')"
      ]
     },
     "execution_count": 59,
     "metadata": {},
     "output_type": "execute_result"
    },
    {
     "data": {
      "image/png": "[encoded data removed]",
      "text/plain": [
       "<Figure size 432x288 with 1 Axes>"
      ]
     },
     "metadata": {
      "needs_background": "light"
     },
     "output_type": "display_data"
    }
   ],
   "source": [
    "plt.scatter(abertura_habt, abertura_kncr)\n",
    "plt.plot(abertura_habt, valoresPredito, color='Orange')\n",
    "plt.xlabel('HABT11')\n",
    "plt.ylabel('KNCR11')"
   ]
  },
  {
   "cell_type": "code",
   "execution_count": 60,
   "metadata": {},
   "outputs": [
    {
     "data": {
      "text/plain": [
       "array([-0.22222709])"
      ]
     },
     "execution_count": 60,
     "metadata": {},
     "output_type": "execute_result"
    }
   ],
   "source": [
    "regressao.coef_"
   ]
  },
  {
   "cell_type": "code",
   "execution_count": 61,
   "metadata": {},
   "outputs": [],
   "source": [
    "from sklearn.tree import DecisionTreeRegressor"
   ]
  },
  {
   "cell_type": "code",
   "execution_count": 62,
   "metadata": {},
   "outputs": [],
   "source": [
    "clf = DecisionTreeRegressor()"
   ]
  },
  {
   "cell_type": "code",
   "execution_count": 63,
   "metadata": {},
   "outputs": [
    {
     "data": {
      "text/plain": [
       "DecisionTreeRegressor()"
      ]
     },
     "execution_count": 63,
     "metadata": {},
     "output_type": "execute_result"
    }
   ],
   "source": [
    "clf.fit(abertura_habt.reshape(-1,1), abertura_kncr)"
   ]
  },
  {
   "cell_type": "code",
   "execution_count": 64,
   "metadata": {},
   "outputs": [],
   "source": [
    "valoresPredito = clf.predict(abertura_habt.reshape(-1,1))"
   ]
  },
  {
   "cell_type": "code",
   "execution_count": 65,
   "metadata": {},
   "outputs": [
    {
     "data": {
      "text/plain": [
       "Text(0, 0.5, 'KNCR11')"
      ]
     },
     "execution_count": 65,
     "metadata": {},
     "output_type": "execute_result"
    },
    {
     "data": {
      "image/png": "[encoded data removed]",
      "text/plain": [
       "<Figure size 432x288 with 1 Axes>"
      ]
     },
     "metadata": {
      "needs_background": "light"
     },
     "output_type": "display_data"
    }
   ],
   "source": [
    "plt.scatter(abertura_habt, abertura_kncr)\n",
    "plt.plot(abertura_habt, valoresPredito, color='Orange')\n",
    "plt.xlabel('HABT11')\n",
    "plt.ylabel('KNCR11')"
   ]
  },
  {
   "cell_type": "code",
   "execution_count": 66,
   "metadata": {},
   "outputs": [
    {
     "data": {
      "text/plain": [
       "Text(0, 0.5, 'KNCR11')"
      ]
     },
     "execution_count": 66,
     "metadata": {},
     "output_type": "execute_result"
    },
    {
     "data": {
      "image/png": "[encoded data removed]",
      "text/plain": [
       "<Figure size 432x288 with 1 Axes>"
      ]
     },
     "metadata": {
      "needs_background": "light"
     },
     "output_type": "display_data"
    }
   ],
   "source": [
    "plt.scatter(abertura_habt, abertura_kncr)\n",
    "plt.scatter(abertura_habt, valoresPredito, color='Orange')\n",
    "plt.xlabel('HABT11')\n",
    "plt.ylabel('KNCR11')"
   ]
  },
  {
   "cell_type": "code",
   "execution_count": 67,
   "metadata": {},
   "outputs": [
    {
     "data": {
      "text/plain": [
       "0.9647518879038507"
      ]
     },
     "execution_count": 67,
     "metadata": {},
     "output_type": "execute_result"
    }
   ],
   "source": [
    "r2_score(valoresPredito, abertura_kncr)"
   ]
  },
  {
   "cell_type": "code",
   "execution_count": 68,
   "metadata": {},
   "outputs": [],
   "source": [
    "from sklearn import tree"
   ]
  },
  {
   "cell_type": "code",
   "execution_count": 69,
   "metadata": {},
   "outputs": [
    {
     "data": {
      "text/plain": [
       "[Text(147.10679347826087, 210.192, 'X[0] <= 109.055\\nmse = 4.48\\nsamples = 100\\nvalue = 89.09'),\n",
       " Text(45.28695652173913, 195.696, 'X[0] <= 96.28\\nmse = 1.013\\nsamples = 44\\nvalue = 90.97'),\n",
       " Text(9.704347826086956, 181.2, 'X[0] <= 96.05\\nmse = 0.249\\nsamples = 3\\nvalue = 93.037'),\n",
       " Text(6.469565217391304, 166.704, 'X[0] <= 95.735\\nmse = 0.003\\nsamples = 2\\nvalue = 92.685'),\n",
       " Text(3.234782608695652, 152.208, 'mse = 0.0\\nsamples = 1\\nvalue = 92.74'),\n",
       " Text(9.704347826086956, 152.208, 'mse = -0.0\\nsamples = 1\\nvalue = 92.63'),\n",
       " Text(12.939130434782609, 166.704, 'mse = -0.0\\nsamples = 1\\nvalue = 93.74'),\n",
       " Text(80.8695652173913, 181.2, 'X[0] <= 100.015\\nmse = 0.734\\nsamples = 41\\nvalue = 90.819'),\n",
       " Text(31.53913043478261, 166.704, 'X[0] <= 97.645\\nmse = 0.431\\nsamples = 17\\nvalue = 90.352'),\n",
       " Text(16.17391304347826, 152.208, 'X[0] <= 97.43\\nmse = 0.694\\nsamples = 7\\nvalue = 90.69'),\n",
       " Text(9.704347826086956, 137.712, 'X[0] <= 96.525\\nmse = 0.751\\nsamples = 5\\nvalue = 90.518'),\n",
       " Text(6.469565217391304, 123.216, 'mse = 0.0\\nsamples = 1\\nvalue = 91.18'),\n",
       " Text(12.939130434782609, 123.216, 'X[0] <= 96.605\\nmse = 0.802\\nsamples = 4\\nvalue = 90.352'),\n",
       " Text(9.704347826086956, 108.72, 'mse = 0.0\\nsamples = 1\\nvalue = 89.41'),\n",
       " Text(16.17391304347826, 108.72, 'X[0] <= 96.695\\nmse = 0.675\\nsamples = 3\\nvalue = 90.667'),\n",
       " Text(12.939130434782609, 94.22399999999999, 'mse = 0.0\\nsamples = 1\\nvalue = 91.77'),\n",
       " Text(19.40869565217391, 94.22399999999999, 'X[0] <= 97.05\\nmse = 0.099\\nsamples = 2\\nvalue = 90.115'),\n",
       " Text(16.17391304347826, 79.72799999999998, 'mse = 0.0\\nsamples = 1\\nvalue = 89.8'),\n",
       " Text(22.643478260869564, 79.72799999999998, 'mse = -0.0\\nsamples = 1\\nvalue = 90.43'),\n",
       " Text(22.643478260869564, 137.712, 'X[0] <= 97.55\\nmse = 0.292\\nsamples = 2\\nvalue = 91.12'),\n",
       " Text(19.40869565217391, 123.216, 'mse = 0.0\\nsamples = 1\\nvalue = 91.66'),\n",
       " Text(25.878260869565217, 123.216, 'mse = 0.0\\nsamples = 1\\nvalue = 90.58'),\n",
       " Text(46.904347826086955, 152.208, 'X[0] <= 98.28\\nmse = 0.111\\nsamples = 10\\nvalue = 90.115'),\n",
       " Text(38.81739130434782, 137.712, 'X[0] <= 98.005\\nmse = 0.07\\nsamples = 5\\nvalue = 90.236'),\n",
       " Text(32.34782608695652, 123.216, 'X[0] <= 97.905\\nmse = 0.052\\nsamples = 3\\nvalue = 90.077'),\n",
       " Text(29.11304347826087, 108.72, 'X[0] <= 97.765\\nmse = 0.04\\nsamples = 2\\nvalue = 90.19'),\n",
       " Text(25.878260869565217, 94.22399999999999, 'mse = 0.0\\nsamples = 1\\nvalue = 89.99'),\n",
       " Text(32.34782608695652, 94.22399999999999, 'mse = -0.0\\nsamples = 1\\nvalue = 90.39'),\n",
       " Text(35.582608695652176, 108.72, 'mse = 0.0\\nsamples = 1\\nvalue = 89.85'),\n",
       " Text(45.28695652173913, 123.216, 'X[0] <= 98.05\\nmse = 0.0\\nsamples = 2\\nvalue = 90.475'),\n",
       " Text(42.052173913043475, 108.72, 'mse = 0.0\\nsamples = 1\\nvalue = 90.48'),\n",
       " Text(48.52173913043478, 108.72, 'mse = 0.0\\nsamples = 1\\nvalue = 90.47'),\n",
       " Text(54.99130434782609, 137.712, 'X[0] <= 98.49\\nmse = 0.123\\nsamples = 5\\nvalue = 89.994'),\n",
       " Text(51.756521739130434, 123.216, 'mse = 0.0\\nsamples = 1\\nvalue = 89.32'),\n",
       " Text(58.22608695652174, 123.216, 'X[0] <= 98.94\\nmse = 0.012\\nsamples = 4\\nvalue = 90.163'),\n",
       " Text(54.99130434782609, 108.72, 'mse = 0.0\\nsamples = 1\\nvalue = 89.99'),\n",
       " Text(61.46086956521739, 108.72, 'X[0] <= 99.535\\nmse = 0.003\\nsamples = 3\\nvalue = 90.22'),\n",
       " Text(58.22608695652174, 94.22399999999999, 'mse = 0.001\\nsamples = 2\\nvalue = 90.185'),\n",
       " Text(64.69565217391305, 94.22399999999999, 'mse = -0.0\\nsamples = 1\\nvalue = 90.29'),\n",
       " Text(130.2, 166.704, 'X[0] <= 106.895\\nmse = 0.684\\nsamples = 24\\nvalue = 91.15'),\n",
       " Text(105.13043478260869, 152.208, 'X[0] <= 104.095\\nmse = 0.296\\nsamples = 18\\nvalue = 91.399'),\n",
       " Text(92.19130434782609, 137.712, 'X[0] <= 103.735\\nmse = 0.331\\nsamples = 10\\nvalue = 91.272'),\n",
       " Text(80.8695652173913, 123.216, 'X[0] <= 101.71\\nmse = 0.348\\nsamples = 7\\nvalue = 91.454'),\n",
       " Text(74.4, 108.72, 'X[0] <= 100.985\\nmse = 0.002\\nsamples = 2\\nvalue = 91.025'),\n",
       " Text(71.16521739130435, 94.22399999999999, 'mse = 0.0\\nsamples = 1\\nvalue = 91.07'),\n",
       " Text(77.63478260869564, 94.22399999999999, 'mse = -0.0\\nsamples = 1\\nvalue = 90.98'),\n",
       " Text(87.3391304347826, 108.72, 'X[0] <= 101.875\\nmse = 0.383\\nsamples = 5\\nvalue = 91.626'),\n",
       " Text(84.10434782608695, 94.22399999999999, 'mse = 0.0\\nsamples = 1\\nvalue = 92.35'),\n",
       " Text(90.57391304347826, 94.22399999999999, 'X[0] <= 103.42\\nmse = 0.315\\nsamples = 4\\nvalue = 91.445'),\n",
       " Text(87.3391304347826, 79.72799999999998, 'X[0] <= 102.945\\nmse = 0.252\\nsamples = 3\\nvalue = 91.24'),\n",
       " Text(84.10434782608695, 65.232, 'X[0] <= 102.31\\nmse = 0.001\\nsamples = 2\\nvalue = 91.595'),\n",
       " Text(80.8695652173913, 50.73599999999999, 'mse = 0.0\\nsamples = 1\\nvalue = 91.57'),\n",
       " Text(87.3391304347826, 50.73599999999999, 'mse = 0.0\\nsamples = 1\\nvalue = 91.62'),\n",
       " Text(90.57391304347826, 65.232, 'mse = 0.0\\nsamples = 1\\nvalue = 90.53'),\n",
       " Text(93.80869565217391, 79.72799999999998, 'mse = 0.0\\nsamples = 1\\nvalue = 92.06'),\n",
       " Text(103.51304347826087, 123.216, 'X[0] <= 104.01\\nmse = 0.031\\nsamples = 3\\nvalue = 90.847'),\n",
       " Text(100.27826086956522, 108.72, 'X[0] <= 103.9\\nmse = 0.009\\nsamples = 2\\nvalue = 90.735'),\n",
       " Text(97.04347826086956, 94.22399999999999, 'mse = 0.0\\nsamples = 1\\nvalue = 90.83'),\n",
       " Text(103.51304347826087, 94.22399999999999, 'mse = 0.0\\nsamples = 1\\nvalue = 90.64'),\n",
       " Text(106.74782608695652, 108.72, 'mse = 0.0\\nsamples = 1\\nvalue = 91.07'),\n",
       " Text(118.0695652173913, 137.712, 'X[0] <= 104.135\\nmse = 0.208\\nsamples = 8\\nvalue = 91.559'),\n",
       " Text(114.83478260869565, 123.216, 'mse = 0.0\\nsamples = 1\\nvalue = 92.35'),\n",
       " Text(121.30434782608695, 123.216, 'X[0] <= 104.625\\nmse = 0.136\\nsamples = 7\\nvalue = 91.446'),\n",
       " Text(113.21739130434783, 108.72, 'X[0] <= 104.37\\nmse = 0.0\\nsamples = 2\\nvalue = 91.065'),\n",
       " Text(109.98260869565217, 94.22399999999999, 'mse = 0.0\\nsamples = 1\\nvalue = 91.08'),\n",
       " Text(116.45217391304348, 94.22399999999999, 'mse = -0.0\\nsamples = 1\\nvalue = 91.05'),\n",
       " Text(129.3913043478261, 108.72, 'X[0] <= 104.935\\nmse = 0.109\\nsamples = 5\\nvalue = 91.598'),\n",
       " Text(122.92173913043479, 94.22399999999999, 'X[0] <= 104.775\\nmse = 0.011\\nsamples = 2\\nvalue = 91.845'),\n",
       " Text(119.68695652173913, 79.72799999999998, 'mse = 0.0\\nsamples = 1\\nvalue = 91.95'),\n",
       " Text(126.15652173913044, 79.72799999999998, 'mse = -0.0\\nsamples = 1\\nvalue = 91.74'),\n",
       " Text(135.8608695652174, 94.22399999999999, 'X[0] <= 106.06\\nmse = 0.106\\nsamples = 3\\nvalue = 91.433'),\n",
       " Text(132.62608695652173, 79.72799999999998, 'X[0] <= 105.21\\nmse = 0.022\\nsamples = 2\\nvalue = 91.22'),\n",
       " Text(129.3913043478261, 65.232, 'mse = 0.0\\nsamples = 1\\nvalue = 91.37'),\n",
       " Text(135.8608695652174, 65.232, 'mse = 0.0\\nsamples = 1\\nvalue = 91.07'),\n",
       " Text(139.09565217391304, 79.72799999999998, 'mse = -0.0\\nsamples = 1\\nvalue = 91.86'),\n",
       " Text(155.2695652173913, 152.208, 'X[0] <= 108.885\\nmse = 1.101\\nsamples = 6\\nvalue = 90.402'),\n",
       " Text(152.03478260869565, 137.712, 'X[0] <= 108.63\\nmse = 1.043\\nsamples = 5\\nvalue = 90.186'),\n",
       " Text(148.8, 123.216, 'X[0] <= 108.26\\nmse = 0.694\\nsamples = 4\\nvalue = 90.535'),\n",
       " Text(145.56521739130434, 108.72, 'X[0] <= 107.56\\nmse = 0.741\\nsamples = 3\\nvalue = 90.75'),\n",
       " Text(142.3304347826087, 94.22399999999999, 'mse = 0.722\\nsamples = 2\\nvalue = 90.39'),\n",
       " Text(148.8, 94.22399999999999, 'mse = 0.0\\nsamples = 1\\nvalue = 91.47'),\n",
       " Text(152.03478260869565, 108.72, 'mse = -0.0\\nsamples = 1\\nvalue = 89.89'),\n",
       " Text(155.2695652173913, 123.216, 'mse = -0.0\\nsamples = 1\\nvalue = 88.79'),\n",
       " Text(158.50434782608696, 137.712, 'mse = -0.0\\nsamples = 1\\nvalue = 91.48'),\n",
       " Text(248.9266304347826, 195.696, 'X[0] <= 112.35\\nmse = 2.242\\nsamples = 56\\nvalue = 87.612'),\n",
       " Text(202.67934782608697, 181.2, 'X[0] <= 109.755\\nmse = 2.813\\nsamples = 36\\nvalue = 87.18'),\n",
       " Text(179.5304347826087, 166.704, 'X[0] <= 109.55\\nmse = 5.208\\nsamples = 6\\nvalue = 89.018'),\n",
       " Text(171.44347826086957, 152.208, 'X[0] <= 109.275\\nmse = 4.315\\nsamples = 4\\nvalue = 87.94'),\n",
       " Text(164.97391304347826, 137.712, 'X[0] <= 109.165\\nmse = 5.108\\nsamples = 2\\nvalue = 89.19'),\n",
       " Text(161.7391304347826, 123.216, 'mse = 0.0\\nsamples = 1\\nvalue = 86.93'),\n",
       " Text(168.2086956521739, 123.216, 'mse = 0.0\\nsamples = 1\\nvalue = 91.45'),\n",
       " Text(177.91304347826087, 137.712, 'X[0] <= 109.39\\nmse = 0.397\\nsamples = 2\\nvalue = 86.69'),\n",
       " Text(174.6782608695652, 123.216, 'mse = 0.0\\nsamples = 1\\nvalue = 87.32'),\n",
       " Text(181.1478260869565, 123.216, 'mse = 0.0\\nsamples = 1\\nvalue = 86.06'),\n",
       " Text(187.61739130434782, 152.208, 'X[0] <= 109.685\\nmse = 0.018\\nsamples = 2\\nvalue = 91.175'),\n",
       " Text(184.38260869565218, 137.712, 'mse = 0.0\\nsamples = 1\\nvalue = 91.04'),\n",
       " Text(190.8521739130435, 137.712, 'mse = 0.0\\nsamples = 1\\nvalue = 91.31'),\n",
       " Text(225.8282608695652, 166.704, 'X[0] <= 112.165\\nmse = 1.522\\nsamples = 30\\nvalue = 86.812'),\n",
       " Text(213.9, 152.208, 'X[0] <= 111.955\\nmse = 1.312\\nsamples = 28\\nvalue = 86.885'),\n",
       " Text(199.7478260869565, 137.712, 'X[0] <= 111.45\\nmse = 1.372\\nsamples = 25\\nvalue = 86.796'),\n",
       " Text(187.61739130434782, 123.216, 'X[0] <= 111.26\\nmse = 0.972\\nsamples = 18\\nvalue = 86.99'),\n",
       " Text(176.29565217391306, 108.72, 'X[0] <= 110.95\\nmse = 0.701\\nsamples = 12\\nvalue = 86.737'),\n",
       " Text(169.82608695652175, 94.22399999999999, 'X[0] <= 110.71\\nmse = 0.453\\nsamples = 10\\nvalue = 86.905'),\n",
       " Text(166.59130434782608, 79.72799999999998, 'X[0] <= 110.575\\nmse = 0.429\\nsamples = 9\\nvalue = 86.819'),\n",
       " Text(163.35652173913044, 65.232, 'X[0] <= 110.42\\nmse = 0.348\\nsamples = 8\\nvalue = 86.941'),\n",
       " Text(160.12173913043478, 50.73599999999999, 'X[0] <= 110.005\\nmse = 0.155\\nsamples = 7\\nvalue = 86.767'),\n",
       " Text(153.65217391304347, 36.23999999999998, 'X[0] <= 109.83\\nmse = 0.01\\nsamples = 3\\nvalue = 87.12'),\n",
       " Text(150.41739130434783, 21.744, 'mse = 0.0\\nsamples = 1\\nvalue = 87.0'),\n",
       " Text(156.88695652173914, 21.744, 'X[0] <= 109.91\\nmse = 0.005\\nsamples = 2\\nvalue = 87.18'),\n",
       " Text(153.65217391304347, 7.2479999999999905, 'mse = 0.0\\nsamples = 1\\nvalue = 87.25'),\n",
       " Text(160.12173913043478, 7.2479999999999905, 'mse = -0.0\\nsamples = 1\\nvalue = 87.11'),\n",
       " Text(166.59130434782608, 36.23999999999998, 'X[0] <= 110.105\\nmse = 0.1\\nsamples = 4\\nvalue = 86.502'),\n",
       " Text(163.35652173913044, 21.744, 'mse = 0.0\\nsamples = 1\\nvalue = 86.09'),\n",
       " Text(169.82608695652175, 21.744, 'X[0] <= 110.255\\nmse = 0.058\\nsamples = 3\\nvalue = 86.64'),\n",
       " Text(166.59130434782608, 7.2479999999999905, 'mse = 0.0\\nsamples = 1\\nvalue = 86.63'),\n",
       " Text(173.0608695652174, 7.2479999999999905, 'mse = 0.087\\nsamples = 2\\nvalue = 86.645'),\n",
       " Text(166.59130434782608, 50.73599999999999, 'mse = 0.0\\nsamples = 1\\nvalue = 88.16'),\n",
       " Text(169.82608695652175, 65.232, 'mse = -0.0\\nsamples = 1\\nvalue = 85.84'),\n",
       " Text(173.0608695652174, 79.72799999999998, 'mse = -0.0\\nsamples = 1\\nvalue = 87.68'),\n",
       " Text(182.76521739130433, 94.22399999999999, 'X[0] <= 111.185\\nmse = 1.092\\nsamples = 2\\nvalue = 85.895'),\n",
       " Text(179.5304347826087, 79.72799999999998, 'mse = 0.0\\nsamples = 1\\nvalue = 84.85'),\n",
       " Text(186.0, 79.72799999999998, 'mse = 0.0\\nsamples = 1\\nvalue = 86.94'),\n",
       " Text(198.9391304347826, 108.72, 'X[0] <= 111.43\\nmse = 1.128\\nsamples = 6\\nvalue = 87.497'),\n",
       " Text(195.70434782608694, 94.22399999999999, 'X[0] <= 111.38\\nmse = 0.021\\nsamples = 4\\nvalue = 87.75'),\n",
       " Text(192.4695652173913, 79.72799999999998, 'X[0] <= 111.32\\nmse = 0.002\\nsamples = 3\\nvalue = 87.67'),\n",
       " Text(189.23478260869564, 65.232, 'mse = 0.0\\nsamples = 1\\nvalue = 87.61'),\n",
       " Text(195.70434782608694, 65.232, 'mse = 0.0\\nsamples = 2\\nvalue = 87.7'),\n",
       " Text(198.9391304347826, 79.72799999999998, 'mse = -0.0\\nsamples = 1\\nvalue = 87.99'),\n",
       " Text(202.17391304347825, 94.22399999999999, 'mse = 2.958\\nsamples = 2\\nvalue = 86.99'),\n",
       " Text(211.87826086956522, 123.216, 'X[0] <= 111.565\\nmse = 2.055\\nsamples = 7\\nvalue = 86.299'),\n",
       " Text(208.64347826086956, 108.72, 'mse = 0.0\\nsamples = 1\\nvalue = 84.55'),\n",
       " Text(215.11304347826086, 108.72, 'X[0] <= 111.865\\nmse = 1.803\\nsamples = 6\\nvalue = 86.59'),\n",
       " Text(208.64347826086956, 94.22399999999999, 'X[0] <= 111.745\\nmse = 0.681\\nsamples = 2\\nvalue = 86.065'),\n",
       " Text(205.40869565217392, 79.72799999999998, 'mse = 0.0\\nsamples = 1\\nvalue = 86.89'),\n",
       " Text(211.87826086956522, 79.72799999999998, 'mse = 0.0\\nsamples = 1\\nvalue = 85.24'),\n",
       " Text(221.58260869565217, 94.22399999999999, 'X[0] <= 111.915\\nmse = 2.158\\nsamples = 4\\nvalue = 86.852'),\n",
       " Text(218.34782608695653, 79.72799999999998, 'mse = 0.0\\nsamples = 1\\nvalue = 87.82'),\n",
       " Text(224.81739130434784, 79.72799999999998, 'mse = 2.461\\nsamples = 3\\nvalue = 86.53'),\n",
       " Text(228.05217391304348, 137.712, 'X[0] <= 112.14\\nmse = 0.203\\nsamples = 3\\nvalue = 87.623'),\n",
       " Text(224.81739130434784, 123.216, 'X[0] <= 112.06\\nmse = 0.004\\nsamples = 2\\nvalue = 87.94'),\n",
       " Text(221.58260869565217, 108.72, 'mse = 0.0\\nsamples = 1\\nvalue = 88.0'),\n",
       " Text(228.05217391304348, 108.72, 'mse = 0.0\\nsamples = 1\\nvalue = 87.88'),\n",
       " Text(231.28695652173914, 123.216, 'mse = -0.0\\nsamples = 1\\nvalue = 86.99'),\n",
       " Text(237.75652173913042, 152.208, 'X[0] <= 112.2\\nmse = 3.349\\nsamples = 2\\nvalue = 85.79'),\n",
       " Text(234.52173913043478, 137.712, 'mse = 0.0\\nsamples = 1\\nvalue = 83.96'),\n",
       " Text(240.9913043478261, 137.712, 'mse = 0.0\\nsamples = 1\\nvalue = 87.62'),\n",
       " Text(295.17391304347825, 181.2, 'X[0] <= 113.92\\nmse = 0.272\\nsamples = 20\\nvalue = 88.391'),\n",
       " Text(271.7217391304348, 166.704, 'X[0] <= 113.53\\nmse = 0.114\\nsamples = 14\\nvalue = 88.236'),\n",
       " Text(255.54782608695652, 152.208, 'X[0] <= 113.29\\nmse = 0.077\\nsamples = 8\\nvalue = 88.424'),\n",
       " Text(247.4608695652174, 137.712, 'X[0] <= 112.675\\nmse = 0.088\\nsamples = 6\\nvalue = 88.482'),\n",
       " Text(240.9913043478261, 123.216, 'X[0] <= 112.555\\nmse = 0.006\\nsamples = 2\\nvalue = 88.285'),\n",
       " Text(237.75652173913042, 108.72, 'mse = 0.0\\nsamples = 1\\nvalue = 88.21'),\n",
       " Text(244.22608695652173, 108.72, 'mse = 0.0\\nsamples = 1\\nvalue = 88.36'),\n",
       " Text(253.9304347826087, 123.216, 'X[0] <= 112.92\\nmse = 0.1\\nsamples = 4\\nvalue = 88.58'),\n",
       " Text(250.69565217391303, 108.72, 'mse = 0.0\\nsamples = 1\\nvalue = 88.81'),\n",
       " Text(257.16521739130434, 108.72, 'mse = 0.11\\nsamples = 3\\nvalue = 88.503'),\n",
       " Text(263.6347826086957, 137.712, 'X[0] <= 113.48\\nmse = 0.004\\nsamples = 2\\nvalue = 88.25'),\n",
       " Text(260.4, 123.216, 'mse = 0.0\\nsamples = 1\\nvalue = 88.19'),\n",
       " Text(266.8695652173913, 123.216, 'mse = 0.0\\nsamples = 1\\nvalue = 88.31'),\n",
       " Text(287.89565217391305, 152.208, 'X[0] <= 113.75\\nmse = 0.054\\nsamples = 6\\nvalue = 87.985'),\n",
       " Text(279.8086956521739, 137.712, 'X[0] <= 113.605\\nmse = 0.011\\nsamples = 4\\nvalue = 87.835'),\n",
       " Text(273.3391304347826, 123.216, 'X[0] <= 113.58\\nmse = 0.004\\nsamples = 2\\nvalue = 87.78'),\n",
       " Text(270.10434782608695, 108.72, 'mse = 0.0\\nsamples = 1\\nvalue = 87.84'),\n",
       " Text(276.5739130434783, 108.72, 'mse = 0.0\\nsamples = 1\\nvalue = 87.72'),\n",
       " Text(286.2782608695652, 123.216, 'X[0] <= 113.645\\nmse = 0.012\\nsamples = 2\\nvalue = 87.89'),\n",
       " Text(283.04347826086956, 108.72, 'mse = 0.0\\nsamples = 1\\nvalue = 88.0'),\n",
       " Text(289.51304347826084, 108.72, 'mse = 0.0\\nsamples = 1\\nvalue = 87.78'),\n",
       " Text(295.9826086956522, 137.712, 'X[0] <= 113.83\\nmse = 0.006\\nsamples = 2\\nvalue = 88.285'),\n",
       " Text(292.74782608695654, 123.216, 'mse = 0.0\\nsamples = 1\\nvalue = 88.36'),\n",
       " Text(299.2173913043478, 123.216, 'mse = 0.0\\nsamples = 1\\nvalue = 88.21'),\n",
       " Text(318.62608695652176, 166.704, 'X[0] <= 116.565\\nmse = 0.453\\nsamples = 6\\nvalue = 88.752'),\n",
       " Text(312.1565217391304, 152.208, 'X[0] <= 114.885\\nmse = 0.092\\nsamples = 3\\nvalue = 89.353'),\n",
       " Text(308.9217391304348, 137.712, 'X[0] <= 114.435\\nmse = 0.022\\nsamples = 2\\nvalue = 89.55'),\n",
       " Text(305.68695652173915, 123.216, 'mse = 0.0\\nsamples = 1\\nvalue = 89.7'),\n",
       " Text(312.1565217391304, 123.216, 'mse = -0.0\\nsamples = 1\\nvalue = 89.4'),\n",
       " Text(315.39130434782606, 137.712, 'mse = 0.0\\nsamples = 1\\nvalue = 88.96'),\n",
       " Text(325.09565217391304, 152.208, 'X[0] <= 119.045\\nmse = 0.09\\nsamples = 3\\nvalue = 88.15'),\n",
       " Text(321.8608695652174, 137.712, 'mse = 0.0\\nsamples = 1\\nvalue = 88.47'),\n",
       " Text(328.3304347826087, 137.712, 'X[0] <= 120.675\\nmse = 0.058\\nsamples = 2\\nvalue = 87.99'),\n",
       " Text(325.09565217391304, 123.216, 'mse = 0.0\\nsamples = 1\\nvalue = 87.75'),\n",
       " Text(331.5652173913044, 123.216, 'mse = -0.0\\nsamples = 1\\nvalue = 88.23')]"
      ]
     },
     "execution_count": 69,
     "metadata": {},
     "output_type": "execute_result"
    },
    {
     "data": {
      "image/png": "[encoded data removed]",
      "text/plain": [
       "<Figure size 432x288 with 1 Axes>"
      ]
     },
     "metadata": {
      "needs_background": "light"
     },
     "output_type": "display_data"
    }
   ],
   "source": [
    "tree.plot_tree(clf)"
   ]
  },
  {
   "cell_type": "code",
   "execution_count": 70,
   "metadata": {},
   "outputs": [],
   "source": [
    "from sklearn import neural_network"
   ]
  },
  {
   "cell_type": "code",
   "execution_count": 71,
   "metadata": {},
   "outputs": [],
   "source": [
    "rna = neural_network.MLPRegressor()"
   ]
  },
  {
   "cell_type": "code",
   "execution_count": 72,
   "metadata": {},
   "outputs": [
    {
     "data": {
      "text/plain": [
       "MLPRegressor()"
      ]
     },
     "execution_count": 72,
     "metadata": {},
     "output_type": "execute_result"
    }
   ],
   "source": [
    "rna.fit(abertura_habt.reshape(-1,1), abertura_kncr)"
   ]
  },
  {
   "cell_type": "code",
   "execution_count": 73,
   "metadata": {},
   "outputs": [],
   "source": [
    "valoresPredito = rna.predict(abertura_habt.reshape(-1,1))"
   ]
  },
  {
   "cell_type": "code",
   "execution_count": 74,
   "metadata": {},
   "outputs": [
    {
     "data": {
      "text/plain": [
       "array([ 99.46887207, 100.81573074,  98.1220134 ,  95.37045549,\n",
       "        95.34566668,  94.6267912 ,  94.47805834,  94.49458421,\n",
       "        94.29627373,  94.36237722,  94.21364436,  94.30453667,\n",
       "        94.26322198,  94.18059262,  93.89965277,  93.89965277,\n",
       "        93.89965277,  93.56913531,  93.49476888,  93.37082483,\n",
       "        93.08162204,  93.15598847,  91.94133679,  91.7182375 ,\n",
       "        92.51147942,  92.49495354,  93.09814792,  92.70152696,\n",
       "        92.42885005,  92.89983744,  92.90810037,  92.96594093,\n",
       "        92.42885005,  92.3957983 ,  92.32969481,  92.90810037,\n",
       "        92.82547101,  93.12293673,  92.90810037,  92.51147942,\n",
       "        92.52800529,  92.27185425,  91.87523329,  91.37119416,\n",
       "        90.86715502,  91.61908226,  91.44556059,  91.61908226,\n",
       "        90.76799978,  91.14809487,  91.28030186,  91.21419836,\n",
       "        90.58621518,  90.30527533,  88.91710198,  90.07391311,\n",
       "        91.03241376,  91.09025431,  90.67710748,  90.49532287,\n",
       "        89.69381802,  88.91710198,  88.59484745,  87.08273004,\n",
       "        86.44648392,  86.25643638,  85.73587137,  86.92573425,\n",
       "        86.03333709,  85.24835811,  84.68647841,  84.52948262,\n",
       "        86.306014  ,  86.83484194,  87.53719156,  87.19014822,\n",
       "        86.43822098,  86.50432448,  84.41380151,  83.33135681,\n",
       "        82.8107918 ,  82.53811489,  82.53811489,  81.82750234,\n",
       "        81.79445059,  81.24909677,  81.480459  ,  81.40609257,\n",
       "        80.85247581,  80.38975136,  80.2410185 ,  81.4143555 ,\n",
       "        81.01773455,  81.17473034,  81.05078629,  80.26580731,\n",
       "        80.13360032,  79.83613461,  79.3155696 ,  79.75350524])"
      ]
     },
     "execution_count": 74,
     "metadata": {},
     "output_type": "execute_result"
    }
   ],
   "source": [
    "valoresPredito"
   ]
  },
  {
   "cell_type": "code",
   "execution_count": 75,
   "metadata": {},
   "outputs": [
    {
     "data": {
      "text/plain": [
       "Text(0, 0.5, 'KNCR11')"
      ]
     },
     "execution_count": 75,
     "metadata": {},
     "output_type": "execute_result"
    },
    {
     "data": {
      "image/png": "[encoded data removed]",
      "text/plain": [
       "<Figure size 432x288 with 1 Axes>"
      ]
     },
     "metadata": {
      "needs_background": "light"
     },
     "output_type": "display_data"
    }
   ],
   "source": [
    "plt.scatter(abertura_habt, abertura_kncr)\n",
    "plt.plot(abertura_habt, valoresPredito, color='Orange')\n",
    "plt.xlabel('HABT11')\n",
    "plt.ylabel('KNCR11')"
   ]
  },
  {
   "cell_type": "code",
   "execution_count": 76,
   "metadata": {},
   "outputs": [
    {
     "data": {
      "text/plain": [
       "-0.7094803538937291"
      ]
     },
     "execution_count": 76,
     "metadata": {},
     "output_type": "execute_result"
    }
   ],
   "source": [
    "r2_score(valoresPredito, abertura_kncr)"
   ]
  },
  {
   "cell_type": "code",
   "execution_count": 77,
   "metadata": {},
   "outputs": [
    {
     "data": {
      "text/plain": [
       "array([99.2044581])"
      ]
     },
     "execution_count": 77,
     "metadata": {},
     "output_type": "execute_result"
    }
   ],
   "source": [
    "rna.predict(np.asarray([119.54]).reshape(-1,1))"
   ]
  },
  {
   "cell_type": "code",
   "execution_count": null,
   "metadata": {},
   "outputs": [],
   "source": []
  }
 ],
 "metadata": {
  "kernelspec": {
   "display_name": "Python 3",
   "language": "python",
   "name": "python3"
  },
  "language_info": {
   "codemirror_mode": {
    "name": "ipython",
    "version": 3
   },
   "file_extension": ".py",
   "mimetype": "text/x-python",
   "name": "python",
   "nbconvert_exporter": "python",
   "pygments_lexer": "ipython3",
   "version": "3.8.3"
  }
 },
 "nbformat": 4,
 "nbformat_minor": 4
}
